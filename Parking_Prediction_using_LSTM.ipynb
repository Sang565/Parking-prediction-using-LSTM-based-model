{
  "nbformat": 4,
  "nbformat_minor": 0,
  "metadata": {
    "colab": {
      "name": "Parking_Prediction_using_LSTM.ipynb",
      "provenance": [],
      "collapsed_sections": [],
      "toc_visible": true,
      "mount_file_id": "1hRKEoqvcVFZA2mroZr4GhOjCLHwYTXFG",
      "authorship_tag": "ABX9TyMx0oOkRCD9FKB02HAxTidI",
      "include_colab_link": true
    },
    "kernelspec": {
      "name": "python3",
      "display_name": "Python 3"
    },
    "accelerator": "GPU"
  },
  "cells": [
    {
      "cell_type": "markdown",
      "metadata": {
        "id": "view-in-github",
        "colab_type": "text"
      },
      "source": [
        "<a href=\"https://colab.research.google.com/github/Sang565/Parking-prediction-using-LSTM-based-model/blob/main/Parking_Prediction_using_LSTM.ipynb\" target=\"_parent\"><img src=\"https://colab.research.google.com/assets/colab-badge.svg\" alt=\"Open In Colab\"/></a>"
      ]
    },
    {
      "cell_type": "markdown",
      "metadata": {
        "id": "pRryoFE6mjro"
      },
      "source": [
        "# Parking prediction using Deep LSTM-based model"
      ]
    },
    {
      "cell_type": "markdown",
      "metadata": {
        "id": "c6wpxZw1QcAo"
      },
      "source": [
        "Running parking occupancy prediction with the real **Birmingham parking dataset**\r\n",
        "\r\n",
        "Dataset link: https://archive.ics.uci.edu/ml/datasets/Parking+Birmingham#\r\n",
        "\r\n"
      ]
    },
    {
      "cell_type": "markdown",
      "metadata": {
        "id": "54cfXNtJUoLo"
      },
      "source": [
        "# Import libraries"
      ]
    },
    {
      "cell_type": "code",
      "metadata": {
        "id": "2aii2BrSSzet"
      },
      "source": [
        "import pandas as pd\r\n",
        "import matplotlib as mpl\r\n",
        "import matplotlib.pyplot as plt\r\n",
        "from sklearn.model_selection import train_test_split\r\n",
        "from sklearn.preprocessing import MinMaxScaler, StandardScaler\r\n",
        "                                                            \r\n",
        "from tensorflow.python.keras.preprocessing.sequence import TimeseriesGenerator  #must use this one for training with TimeSeriesGenerator \r\n",
        "import tensorflow as tf "
      ],
      "execution_count": 32,
      "outputs": []
    },
    {
      "cell_type": "markdown",
      "metadata": {
        "id": "P_Vj6N_Ow_xU"
      },
      "source": [
        "# Part 1. Data Pre-processing"
      ]
    },
    {
      "cell_type": "markdown",
      "metadata": {
        "id": "iV84DBf1Uby-"
      },
      "source": [
        "# Read dataset"
      ]
    },
    {
      "cell_type": "markdown",
      "metadata": {
        "id": "yB_zIUWkTrBC"
      },
      "source": [
        "Read dataset and convert to pandas dataFrame"
      ]
    },
    {
      "cell_type": "code",
      "metadata": {
        "id": "qHXYwUc3ToWj"
      },
      "source": [
        "#df = pd.read_csv('/content/dataset.csv')   # via the file downloaded\r\n",
        "df = pd.read_csv('https://archive.ics.uci.edu/ml/machine-learning-databases/00482/dataset.zip')  # directly from the dataset website"
      ],
      "execution_count": 33,
      "outputs": []
    },
    {
      "cell_type": "code",
      "metadata": {
        "id": "Ts9wUVXLUAzc",
        "colab": {
          "base_uri": "https://localhost:8080/",
          "height": 402
        },
        "outputId": "5dbc4220-1dd2-4c48-b976-5f7e9e3b6af6"
      },
      "source": [
        "df  # dataset exploration"
      ],
      "execution_count": 34,
      "outputs": [
        {
          "output_type": "execute_result",
          "data": {
            "text/html": [
              "<div>\n",
              "<style scoped>\n",
              "    .dataframe tbody tr th:only-of-type {\n",
              "        vertical-align: middle;\n",
              "    }\n",
              "\n",
              "    .dataframe tbody tr th {\n",
              "        vertical-align: top;\n",
              "    }\n",
              "\n",
              "    .dataframe thead th {\n",
              "        text-align: right;\n",
              "    }\n",
              "</style>\n",
              "<table border=\"1\" class=\"dataframe\">\n",
              "  <thead>\n",
              "    <tr style=\"text-align: right;\">\n",
              "      <th></th>\n",
              "      <th>SystemCodeNumber</th>\n",
              "      <th>Capacity</th>\n",
              "      <th>Occupancy</th>\n",
              "      <th>LastUpdated</th>\n",
              "    </tr>\n",
              "  </thead>\n",
              "  <tbody>\n",
              "    <tr>\n",
              "      <th>0</th>\n",
              "      <td>BHMBCCMKT01</td>\n",
              "      <td>577</td>\n",
              "      <td>61</td>\n",
              "      <td>2016-10-04 07:59:42</td>\n",
              "    </tr>\n",
              "    <tr>\n",
              "      <th>1</th>\n",
              "      <td>BHMBCCMKT01</td>\n",
              "      <td>577</td>\n",
              "      <td>64</td>\n",
              "      <td>2016-10-04 08:25:42</td>\n",
              "    </tr>\n",
              "    <tr>\n",
              "      <th>2</th>\n",
              "      <td>BHMBCCMKT01</td>\n",
              "      <td>577</td>\n",
              "      <td>80</td>\n",
              "      <td>2016-10-04 08:59:42</td>\n",
              "    </tr>\n",
              "    <tr>\n",
              "      <th>3</th>\n",
              "      <td>BHMBCCMKT01</td>\n",
              "      <td>577</td>\n",
              "      <td>107</td>\n",
              "      <td>2016-10-04 09:32:46</td>\n",
              "    </tr>\n",
              "    <tr>\n",
              "      <th>4</th>\n",
              "      <td>BHMBCCMKT01</td>\n",
              "      <td>577</td>\n",
              "      <td>150</td>\n",
              "      <td>2016-10-04 09:59:48</td>\n",
              "    </tr>\n",
              "    <tr>\n",
              "      <th>...</th>\n",
              "      <td>...</td>\n",
              "      <td>...</td>\n",
              "      <td>...</td>\n",
              "      <td>...</td>\n",
              "    </tr>\n",
              "    <tr>\n",
              "      <th>35712</th>\n",
              "      <td>Shopping</td>\n",
              "      <td>1920</td>\n",
              "      <td>1517</td>\n",
              "      <td>2016-12-19 14:30:33</td>\n",
              "    </tr>\n",
              "    <tr>\n",
              "      <th>35713</th>\n",
              "      <td>Shopping</td>\n",
              "      <td>1920</td>\n",
              "      <td>1487</td>\n",
              "      <td>2016-12-19 15:03:34</td>\n",
              "    </tr>\n",
              "    <tr>\n",
              "      <th>35714</th>\n",
              "      <td>Shopping</td>\n",
              "      <td>1920</td>\n",
              "      <td>1432</td>\n",
              "      <td>2016-12-19 15:29:33</td>\n",
              "    </tr>\n",
              "    <tr>\n",
              "      <th>35715</th>\n",
              "      <td>Shopping</td>\n",
              "      <td>1920</td>\n",
              "      <td>1321</td>\n",
              "      <td>2016-12-19 16:03:35</td>\n",
              "    </tr>\n",
              "    <tr>\n",
              "      <th>35716</th>\n",
              "      <td>Shopping</td>\n",
              "      <td>1920</td>\n",
              "      <td>1180</td>\n",
              "      <td>2016-12-19 16:30:35</td>\n",
              "    </tr>\n",
              "  </tbody>\n",
              "</table>\n",
              "<p>35717 rows × 4 columns</p>\n",
              "</div>"
            ],
            "text/plain": [
              "      SystemCodeNumber  Capacity  Occupancy          LastUpdated\n",
              "0          BHMBCCMKT01       577         61  2016-10-04 07:59:42\n",
              "1          BHMBCCMKT01       577         64  2016-10-04 08:25:42\n",
              "2          BHMBCCMKT01       577         80  2016-10-04 08:59:42\n",
              "3          BHMBCCMKT01       577        107  2016-10-04 09:32:46\n",
              "4          BHMBCCMKT01       577        150  2016-10-04 09:59:48\n",
              "...                ...       ...        ...                  ...\n",
              "35712         Shopping      1920       1517  2016-12-19 14:30:33\n",
              "35713         Shopping      1920       1487  2016-12-19 15:03:34\n",
              "35714         Shopping      1920       1432  2016-12-19 15:29:33\n",
              "35715         Shopping      1920       1321  2016-12-19 16:03:35\n",
              "35716         Shopping      1920       1180  2016-12-19 16:30:35\n",
              "\n",
              "[35717 rows x 4 columns]"
            ]
          },
          "metadata": {
            "tags": []
          },
          "execution_count": 34
        }
      ]
    },
    {
      "cell_type": "code",
      "metadata": {
        "id": "NH_CO5r0VbtF",
        "colab": {
          "base_uri": "https://localhost:8080/"
        },
        "outputId": "f8196640-9fcf-4f3e-cfba-3ee63cce8eba"
      },
      "source": [
        "df.info()"
      ],
      "execution_count": 35,
      "outputs": [
        {
          "output_type": "stream",
          "text": [
            "<class 'pandas.core.frame.DataFrame'>\n",
            "RangeIndex: 35717 entries, 0 to 35716\n",
            "Data columns (total 4 columns):\n",
            " #   Column            Non-Null Count  Dtype \n",
            "---  ------            --------------  ----- \n",
            " 0   SystemCodeNumber  35717 non-null  object\n",
            " 1   Capacity          35717 non-null  int64 \n",
            " 2   Occupancy         35717 non-null  int64 \n",
            " 3   LastUpdated       35717 non-null  object\n",
            "dtypes: int64(2), object(2)\n",
            "memory usage: 1.1+ MB\n"
          ],
          "name": "stdout"
        }
      ]
    },
    {
      "cell_type": "code",
      "metadata": {
        "colab": {
          "base_uri": "https://localhost:8080/"
        },
        "id": "tToUkB3wddyG",
        "outputId": "503f5f75-55e9-4d8c-a460-e93f55d37664"
      },
      "source": [
        "df.shape"
      ],
      "execution_count": 36,
      "outputs": [
        {
          "output_type": "execute_result",
          "data": {
            "text/plain": [
              "(35717, 4)"
            ]
          },
          "metadata": {
            "tags": []
          },
          "execution_count": 36
        }
      ]
    },
    {
      "cell_type": "markdown",
      "metadata": {
        "id": "beWLeQ4aXY2w"
      },
      "source": [
        "Dataset info:\r\n",
        "- Collected 8:00-16:30 from 11/01/2016 to 17/05/2016 (11 weeks - 77 days)\r\n",
        "\r\n",
        "- 30 different carpark (CP)\r\n",
        "\r\n",
        "- Update time inverval is 10 minutes\r\n",
        "\r\n",
        "- Total no. of records: 19,735 \r\n",
        "\r\n",
        "- 18 records/day/carpark --> total no. of records of each CP: around 1,386\r\n",
        "\r\n",
        "\r\n",
        "**Some attribute information: **\r\n",
        "\r\n",
        "SystemCodeNumber: carpark ID\r\n",
        "\r\n",
        "Capacity: CP capacity\r\n",
        "\r\n",
        "Occupancy: CP occupancy\r\n",
        "\r\n",
        "LastUpdated: record update time\r\n"
      ]
    },
    {
      "cell_type": "code",
      "metadata": {
        "id": "QL652GmqCmHz",
        "colab": {
          "base_uri": "https://localhost:8080/"
        },
        "outputId": "73625b6c-3673-44f7-f586-aa323b702796"
      },
      "source": [
        "df.LastUpdated.head()"
      ],
      "execution_count": 37,
      "outputs": [
        {
          "output_type": "execute_result",
          "data": {
            "text/plain": [
              "0    2016-10-04 07:59:42\n",
              "1    2016-10-04 08:25:42\n",
              "2    2016-10-04 08:59:42\n",
              "3    2016-10-04 09:32:46\n",
              "4    2016-10-04 09:59:48\n",
              "Name: LastUpdated, dtype: object"
            ]
          },
          "metadata": {
            "tags": []
          },
          "execution_count": 37
        }
      ]
    },
    {
      "cell_type": "markdown",
      "metadata": {
        "id": "co4LJrZ2IM64"
      },
      "source": [
        "Convert date format from object type to datetime64 type to apply training and prediction"
      ]
    },
    {
      "cell_type": "code",
      "metadata": {
        "id": "1nlixusbZhAK"
      },
      "source": [
        "#add column 'date' by converting column 'LastUpdated' into datetime64 format\r\n",
        "df['date'] = pd.to_datetime(df['LastUpdated'], infer_datetime_format=True) "
      ],
      "execution_count": 38,
      "outputs": []
    },
    {
      "cell_type": "code",
      "metadata": {
        "colab": {
          "base_uri": "https://localhost:8080/"
        },
        "id": "PLidtkx19LWd",
        "outputId": "9412ebde-7118-4c32-c49f-0301aff7fc3f"
      },
      "source": [
        "df.info()"
      ],
      "execution_count": 39,
      "outputs": [
        {
          "output_type": "stream",
          "text": [
            "<class 'pandas.core.frame.DataFrame'>\n",
            "RangeIndex: 35717 entries, 0 to 35716\n",
            "Data columns (total 5 columns):\n",
            " #   Column            Non-Null Count  Dtype         \n",
            "---  ------            --------------  -----         \n",
            " 0   SystemCodeNumber  35717 non-null  object        \n",
            " 1   Capacity          35717 non-null  int64         \n",
            " 2   Occupancy         35717 non-null  int64         \n",
            " 3   LastUpdated       35717 non-null  object        \n",
            " 4   date              35717 non-null  datetime64[ns]\n",
            "dtypes: datetime64[ns](1), int64(2), object(2)\n",
            "memory usage: 1.4+ MB\n"
          ],
          "name": "stdout"
        }
      ]
    },
    {
      "cell_type": "code",
      "metadata": {
        "id": "eRn-duddZ6Ac",
        "colab": {
          "base_uri": "https://localhost:8080/"
        },
        "outputId": "e0ab6d3a-d0b0-44e7-90ce-2c1498dac7a2"
      },
      "source": [
        "df.date"
      ],
      "execution_count": 40,
      "outputs": [
        {
          "output_type": "execute_result",
          "data": {
            "text/plain": [
              "0       2016-10-04 07:59:42\n",
              "1       2016-10-04 08:25:42\n",
              "2       2016-10-04 08:59:42\n",
              "3       2016-10-04 09:32:46\n",
              "4       2016-10-04 09:59:48\n",
              "                ...        \n",
              "35712   2016-12-19 14:30:33\n",
              "35713   2016-12-19 15:03:34\n",
              "35714   2016-12-19 15:29:33\n",
              "35715   2016-12-19 16:03:35\n",
              "35716   2016-12-19 16:30:35\n",
              "Name: date, Length: 35717, dtype: datetime64[ns]"
            ]
          },
          "metadata": {
            "tags": []
          },
          "execution_count": 40
        }
      ]
    },
    {
      "cell_type": "code",
      "metadata": {
        "id": "GEv9Qipb6Ivb",
        "colab": {
          "base_uri": "https://localhost:8080/"
        },
        "outputId": "b2d9db62-591d-470c-b918-4bafc71239d6"
      },
      "source": [
        "df.date.head()"
      ],
      "execution_count": 41,
      "outputs": [
        {
          "output_type": "execute_result",
          "data": {
            "text/plain": [
              "0   2016-10-04 07:59:42\n",
              "1   2016-10-04 08:25:42\n",
              "2   2016-10-04 08:59:42\n",
              "3   2016-10-04 09:32:46\n",
              "4   2016-10-04 09:59:48\n",
              "Name: date, dtype: datetime64[ns]"
            ]
          },
          "metadata": {
            "tags": []
          },
          "execution_count": 41
        }
      ]
    },
    {
      "cell_type": "markdown",
      "metadata": {
        "id": "4cwxbKkZ9612"
      },
      "source": [
        "**------------ Select a specific CP to do prediction ----------**\r\n"
      ]
    },
    {
      "cell_type": "code",
      "metadata": {
        "colab": {
          "base_uri": "https://localhost:8080/",
          "height": 402
        },
        "id": "5I4IO4WA96Px",
        "outputId": "2230a654-c037-49b4-e1e3-71bb31c5b2f7"
      },
      "source": [
        "# 28 working CPs: \r\n",
        "#    BHMBCCMKT01, BHMBCCPST01, BHMBCCSNH01, BHMBCCTHL01, BHMBRCBRG01, BHMBRCBRG02, BHMBRCBRG03, BHMEURBRD01, BHMEURBRD02, BHMMBMMBX01,\r\n",
        "#    BHMNCPHST01, BHMNCPLDH01, BHMNCPNHS01, BHMNCPNST01, BHMNCPPLS01, BHMNCPRAN01, Broad Street, Bull Ring, NIA Car Parks, NIA South, \r\n",
        "#    Others-CCCPS105a, Others-CCCPS119a, Others-CCCPS133, Others-CCCPS135a, Others-CCCPS202, Others-CCCPS8, Others-CCCPS98, Shopping\r\n",
        "#\r\n",
        "# 2 fault CPs: BHMBRTARC01 (88 records), NIA North (126 records)  --> Not running!!!\r\n",
        "\r\n",
        "# Select the target CP \r\n",
        "df_cp_filtered = df[df['SystemCodeNumber'].str.match('BHMBCCMKT01')]\r\n",
        "\r\n",
        "df_cp_filtered"
      ],
      "execution_count": 42,
      "outputs": [
        {
          "output_type": "execute_result",
          "data": {
            "text/html": [
              "<div>\n",
              "<style scoped>\n",
              "    .dataframe tbody tr th:only-of-type {\n",
              "        vertical-align: middle;\n",
              "    }\n",
              "\n",
              "    .dataframe tbody tr th {\n",
              "        vertical-align: top;\n",
              "    }\n",
              "\n",
              "    .dataframe thead th {\n",
              "        text-align: right;\n",
              "    }\n",
              "</style>\n",
              "<table border=\"1\" class=\"dataframe\">\n",
              "  <thead>\n",
              "    <tr style=\"text-align: right;\">\n",
              "      <th></th>\n",
              "      <th>SystemCodeNumber</th>\n",
              "      <th>Capacity</th>\n",
              "      <th>Occupancy</th>\n",
              "      <th>LastUpdated</th>\n",
              "      <th>date</th>\n",
              "    </tr>\n",
              "  </thead>\n",
              "  <tbody>\n",
              "    <tr>\n",
              "      <th>0</th>\n",
              "      <td>BHMBCCMKT01</td>\n",
              "      <td>577</td>\n",
              "      <td>61</td>\n",
              "      <td>2016-10-04 07:59:42</td>\n",
              "      <td>2016-10-04 07:59:42</td>\n",
              "    </tr>\n",
              "    <tr>\n",
              "      <th>1</th>\n",
              "      <td>BHMBCCMKT01</td>\n",
              "      <td>577</td>\n",
              "      <td>64</td>\n",
              "      <td>2016-10-04 08:25:42</td>\n",
              "      <td>2016-10-04 08:25:42</td>\n",
              "    </tr>\n",
              "    <tr>\n",
              "      <th>2</th>\n",
              "      <td>BHMBCCMKT01</td>\n",
              "      <td>577</td>\n",
              "      <td>80</td>\n",
              "      <td>2016-10-04 08:59:42</td>\n",
              "      <td>2016-10-04 08:59:42</td>\n",
              "    </tr>\n",
              "    <tr>\n",
              "      <th>3</th>\n",
              "      <td>BHMBCCMKT01</td>\n",
              "      <td>577</td>\n",
              "      <td>107</td>\n",
              "      <td>2016-10-04 09:32:46</td>\n",
              "      <td>2016-10-04 09:32:46</td>\n",
              "    </tr>\n",
              "    <tr>\n",
              "      <th>4</th>\n",
              "      <td>BHMBCCMKT01</td>\n",
              "      <td>577</td>\n",
              "      <td>150</td>\n",
              "      <td>2016-10-04 09:59:48</td>\n",
              "      <td>2016-10-04 09:59:48</td>\n",
              "    </tr>\n",
              "    <tr>\n",
              "      <th>...</th>\n",
              "      <td>...</td>\n",
              "      <td>...</td>\n",
              "      <td>...</td>\n",
              "      <td>...</td>\n",
              "      <td>...</td>\n",
              "    </tr>\n",
              "    <tr>\n",
              "      <th>1307</th>\n",
              "      <td>BHMBCCMKT01</td>\n",
              "      <td>577</td>\n",
              "      <td>309</td>\n",
              "      <td>2016-12-19 14:30:33</td>\n",
              "      <td>2016-12-19 14:30:33</td>\n",
              "    </tr>\n",
              "    <tr>\n",
              "      <th>1308</th>\n",
              "      <td>BHMBCCMKT01</td>\n",
              "      <td>577</td>\n",
              "      <td>300</td>\n",
              "      <td>2016-12-19 15:03:34</td>\n",
              "      <td>2016-12-19 15:03:34</td>\n",
              "    </tr>\n",
              "    <tr>\n",
              "      <th>1309</th>\n",
              "      <td>BHMBCCMKT01</td>\n",
              "      <td>577</td>\n",
              "      <td>274</td>\n",
              "      <td>2016-12-19 15:29:33</td>\n",
              "      <td>2016-12-19 15:29:33</td>\n",
              "    </tr>\n",
              "    <tr>\n",
              "      <th>1310</th>\n",
              "      <td>BHMBCCMKT01</td>\n",
              "      <td>577</td>\n",
              "      <td>230</td>\n",
              "      <td>2016-12-19 16:03:35</td>\n",
              "      <td>2016-12-19 16:03:35</td>\n",
              "    </tr>\n",
              "    <tr>\n",
              "      <th>1311</th>\n",
              "      <td>BHMBCCMKT01</td>\n",
              "      <td>577</td>\n",
              "      <td>193</td>\n",
              "      <td>2016-12-19 16:30:35</td>\n",
              "      <td>2016-12-19 16:30:35</td>\n",
              "    </tr>\n",
              "  </tbody>\n",
              "</table>\n",
              "<p>1312 rows × 5 columns</p>\n",
              "</div>"
            ],
            "text/plain": [
              "     SystemCodeNumber  Capacity  ...          LastUpdated                date\n",
              "0         BHMBCCMKT01       577  ...  2016-10-04 07:59:42 2016-10-04 07:59:42\n",
              "1         BHMBCCMKT01       577  ...  2016-10-04 08:25:42 2016-10-04 08:25:42\n",
              "2         BHMBCCMKT01       577  ...  2016-10-04 08:59:42 2016-10-04 08:59:42\n",
              "3         BHMBCCMKT01       577  ...  2016-10-04 09:32:46 2016-10-04 09:32:46\n",
              "4         BHMBCCMKT01       577  ...  2016-10-04 09:59:48 2016-10-04 09:59:48\n",
              "...               ...       ...  ...                  ...                 ...\n",
              "1307      BHMBCCMKT01       577  ...  2016-12-19 14:30:33 2016-12-19 14:30:33\n",
              "1308      BHMBCCMKT01       577  ...  2016-12-19 15:03:34 2016-12-19 15:03:34\n",
              "1309      BHMBCCMKT01       577  ...  2016-12-19 15:29:33 2016-12-19 15:29:33\n",
              "1310      BHMBCCMKT01       577  ...  2016-12-19 16:03:35 2016-12-19 16:03:35\n",
              "1311      BHMBCCMKT01       577  ...  2016-12-19 16:30:35 2016-12-19 16:30:35\n",
              "\n",
              "[1312 rows x 5 columns]"
            ]
          },
          "metadata": {
            "tags": []
          },
          "execution_count": 42
        }
      ]
    },
    {
      "cell_type": "code",
      "metadata": {
        "id": "IfC40v-uBj5l"
      },
      "source": [
        "# df_cp_filtered"
      ],
      "execution_count": 43,
      "outputs": []
    },
    {
      "cell_type": "code",
      "metadata": {
        "id": "eHhheaBxBreF",
        "colab": {
          "base_uri": "https://localhost:8080/"
        },
        "outputId": "19e3d140-406c-47b8-9d80-924d591d741b"
      },
      "source": [
        "df_cp_filtered.info()"
      ],
      "execution_count": 44,
      "outputs": [
        {
          "output_type": "stream",
          "text": [
            "<class 'pandas.core.frame.DataFrame'>\n",
            "Int64Index: 1312 entries, 0 to 1311\n",
            "Data columns (total 5 columns):\n",
            " #   Column            Non-Null Count  Dtype         \n",
            "---  ------            --------------  -----         \n",
            " 0   SystemCodeNumber  1312 non-null   object        \n",
            " 1   Capacity          1312 non-null   int64         \n",
            " 2   Occupancy         1312 non-null   int64         \n",
            " 3   LastUpdated       1312 non-null   object        \n",
            " 4   date              1312 non-null   datetime64[ns]\n",
            "dtypes: datetime64[ns](1), int64(2), object(2)\n",
            "memory usage: 61.5+ KB\n"
          ],
          "name": "stdout"
        }
      ]
    },
    {
      "cell_type": "markdown",
      "metadata": {
        "id": "l-XpIJdZBkVa"
      },
      "source": [
        "Set index column and select features"
      ]
    },
    {
      "cell_type": "code",
      "metadata": {
        "id": "tCOgbS6walSV",
        "colab": {
          "base_uri": "https://localhost:8080/",
          "height": 322
        },
        "outputId": "ef66a5c6-d652-436f-84ab-43bd10e2b668"
      },
      "source": [
        "# Set index (use date column) and select features and do plotting for viewing\r\n",
        "df_cp_filtered.set_index('date') [['Occupancy']].plot(subplots=True)  # 2 steps: select column works as index,  and plot selected column (not the index column)\r\n"
      ],
      "execution_count": 45,
      "outputs": [
        {
          "output_type": "execute_result",
          "data": {
            "text/plain": [
              "array([<matplotlib.axes._subplots.AxesSubplot object at 0x7f71d0495a90>],\n",
              "      dtype=object)"
            ]
          },
          "metadata": {
            "tags": []
          },
          "execution_count": 45
        },
        {
          "output_type": "display_data",
          "data": {
            "image/png": "[encoded data removed]",
            "text/plain": [
              "<Figure size 432x288 with 1 Axes>"
            ]
          },
          "metadata": {
            "tags": [],
            "needs_background": "light"
          }
        }
      ]
    },
    {
      "cell_type": "code",
      "metadata": {
        "id": "bOGtSjWmdlh3",
        "colab": {
          "base_uri": "https://localhost:8080/",
          "height": 195
        },
        "outputId": "cb3decee-d0c3-4cf0-8d9b-ba8ce372f068"
      },
      "source": [
        "# Select final input feature ('Occupany')\r\n",
        "df_input = df_cp_filtered[['Occupancy']]  # df_input also use 'date' for index, inherited from df\r\n",
        "df_input.head()"
      ],
      "execution_count": 46,
      "outputs": [
        {
          "output_type": "execute_result",
          "data": {
            "text/html": [
              "<div>\n",
              "<style scoped>\n",
              "    .dataframe tbody tr th:only-of-type {\n",
              "        vertical-align: middle;\n",
              "    }\n",
              "\n",
              "    .dataframe tbody tr th {\n",
              "        vertical-align: top;\n",
              "    }\n",
              "\n",
              "    .dataframe thead th {\n",
              "        text-align: right;\n",
              "    }\n",
              "</style>\n",
              "<table border=\"1\" class=\"dataframe\">\n",
              "  <thead>\n",
              "    <tr style=\"text-align: right;\">\n",
              "      <th></th>\n",
              "      <th>Occupancy</th>\n",
              "    </tr>\n",
              "  </thead>\n",
              "  <tbody>\n",
              "    <tr>\n",
              "      <th>0</th>\n",
              "      <td>61</td>\n",
              "    </tr>\n",
              "    <tr>\n",
              "      <th>1</th>\n",
              "      <td>64</td>\n",
              "    </tr>\n",
              "    <tr>\n",
              "      <th>2</th>\n",
              "      <td>80</td>\n",
              "    </tr>\n",
              "    <tr>\n",
              "      <th>3</th>\n",
              "      <td>107</td>\n",
              "    </tr>\n",
              "    <tr>\n",
              "      <th>4</th>\n",
              "      <td>150</td>\n",
              "    </tr>\n",
              "  </tbody>\n",
              "</table>\n",
              "</div>"
            ],
            "text/plain": [
              "   Occupancy\n",
              "0         61\n",
              "1         64\n",
              "2         80\n",
              "3        107\n",
              "4        150"
            ]
          },
          "metadata": {
            "tags": []
          },
          "execution_count": 46
        }
      ]
    },
    {
      "cell_type": "code",
      "metadata": {
        "id": "oXI8Hm-XiiqD",
        "colab": {
          "base_uri": "https://localhost:8080/"
        },
        "outputId": "622931b6-7655-4444-a7c2-7f7796f434af"
      },
      "source": [
        "df_input.shape"
      ],
      "execution_count": 47,
      "outputs": [
        {
          "output_type": "execute_result",
          "data": {
            "text/plain": [
              "(1312, 1)"
            ]
          },
          "metadata": {
            "tags": []
          },
          "execution_count": 47
        }
      ]
    },
    {
      "cell_type": "code",
      "metadata": {
        "id": "1nfUwxP1iuI0",
        "colab": {
          "base_uri": "https://localhost:8080/",
          "height": 284
        },
        "outputId": "2c134183-a4af-43a9-8edd-cb4d767a5d07"
      },
      "source": [
        "# check the distribution of input features\r\n",
        "df_input.describe()"
      ],
      "execution_count": 48,
      "outputs": [
        {
          "output_type": "execute_result",
          "data": {
            "text/html": [
              "<div>\n",
              "<style scoped>\n",
              "    .dataframe tbody tr th:only-of-type {\n",
              "        vertical-align: middle;\n",
              "    }\n",
              "\n",
              "    .dataframe tbody tr th {\n",
              "        vertical-align: top;\n",
              "    }\n",
              "\n",
              "    .dataframe thead th {\n",
              "        text-align: right;\n",
              "    }\n",
              "</style>\n",
              "<table border=\"1\" class=\"dataframe\">\n",
              "  <thead>\n",
              "    <tr style=\"text-align: right;\">\n",
              "      <th></th>\n",
              "      <th>Occupancy</th>\n",
              "    </tr>\n",
              "  </thead>\n",
              "  <tbody>\n",
              "    <tr>\n",
              "      <th>count</th>\n",
              "      <td>1312.000000</td>\n",
              "    </tr>\n",
              "    <tr>\n",
              "      <th>mean</th>\n",
              "      <td>162.029726</td>\n",
              "    </tr>\n",
              "    <tr>\n",
              "      <th>std</th>\n",
              "      <td>99.404980</td>\n",
              "    </tr>\n",
              "    <tr>\n",
              "      <th>min</th>\n",
              "      <td>2.000000</td>\n",
              "    </tr>\n",
              "    <tr>\n",
              "      <th>25%</th>\n",
              "      <td>91.000000</td>\n",
              "    </tr>\n",
              "    <tr>\n",
              "      <th>50%</th>\n",
              "      <td>157.000000</td>\n",
              "    </tr>\n",
              "    <tr>\n",
              "      <th>75%</th>\n",
              "      <td>206.000000</td>\n",
              "    </tr>\n",
              "    <tr>\n",
              "      <th>max</th>\n",
              "      <td>573.000000</td>\n",
              "    </tr>\n",
              "  </tbody>\n",
              "</table>\n",
              "</div>"
            ],
            "text/plain": [
              "         Occupancy\n",
              "count  1312.000000\n",
              "mean    162.029726\n",
              "std      99.404980\n",
              "min       2.000000\n",
              "25%      91.000000\n",
              "50%     157.000000\n",
              "75%     206.000000\n",
              "max     573.000000"
            ]
          },
          "metadata": {
            "tags": []
          },
          "execution_count": 48
        }
      ]
    },
    {
      "cell_type": "code",
      "metadata": {
        "id": "jHj_vPDYk8QV"
      },
      "source": [
        "# other testing\r\n",
        "#df_input.query('Occupancy > 1200')  "
      ],
      "execution_count": 49,
      "outputs": []
    },
    {
      "cell_type": "markdown",
      "metadata": {
        "id": "cgiAzTqvnwjR"
      },
      "source": [
        "# Data sclaling to [0, 1] range"
      ]
    },
    {
      "cell_type": "code",
      "metadata": {
        "id": "mjjnUIXWlh4P"
      },
      "source": [
        "scaler = MinMaxScaler()\r\n",
        "data_scaled = scaler.fit_transform(df_input)"
      ],
      "execution_count": 50,
      "outputs": []
    },
    {
      "cell_type": "code",
      "metadata": {
        "id": "xHF_6aIVltVw",
        "colab": {
          "base_uri": "https://localhost:8080/"
        },
        "outputId": "ec761395-a5ec-4adb-ffbe-a5ab18340436"
      },
      "source": [
        "data_scaled"
      ],
      "execution_count": 51,
      "outputs": [
        {
          "output_type": "execute_result",
          "data": {
            "text/plain": [
              "array([[0.1033275 ],\n",
              "       [0.10858144],\n",
              "       [0.13660245],\n",
              "       ...,\n",
              "       [0.47635727],\n",
              "       [0.39929947],\n",
              "       [0.33450088]])"
            ]
          },
          "metadata": {
            "tags": []
          },
          "execution_count": 51
        }
      ]
    },
    {
      "cell_type": "code",
      "metadata": {
        "colab": {
          "base_uri": "https://localhost:8080/"
        },
        "id": "runCiXhomPVg",
        "outputId": "9f89b1f6-04ab-497c-a536-d94d88b753d0"
      },
      "source": [
        "data_scaled.shape"
      ],
      "execution_count": 52,
      "outputs": [
        {
          "output_type": "execute_result",
          "data": {
            "text/plain": [
              "(1312, 1)"
            ]
          },
          "metadata": {
            "tags": []
          },
          "execution_count": 52
        }
      ]
    },
    {
      "cell_type": "markdown",
      "metadata": {
        "id": "mT3aeNVzoJkB"
      },
      "source": [
        "# Features (Inputs) and Target (Output prediction) selections "
      ]
    },
    {
      "cell_type": "code",
      "metadata": {
        "id": "itQnRkPHmTaQ"
      },
      "source": [
        "# Feature selection and Target predicted selection \r\n",
        "features = data_scaled  # use for input \r\n",
        "\r\n",
        "target = data_scaled[:,0] # use for output prediction"
      ],
      "execution_count": 53,
      "outputs": []
    },
    {
      "cell_type": "code",
      "metadata": {
        "id": "5jbrgfZznAmD",
        "colab": {
          "base_uri": "https://localhost:8080/"
        },
        "outputId": "31df0068-4c3b-4b25-fc40-0439da86ba18"
      },
      "source": [
        "target"
      ],
      "execution_count": 54,
      "outputs": [
        {
          "output_type": "execute_result",
          "data": {
            "text/plain": [
              "array([0.1033275 , 0.10858144, 0.13660245, ..., 0.47635727, 0.39929947,\n",
              "       0.33450088])"
            ]
          },
          "metadata": {
            "tags": []
          },
          "execution_count": 54
        }
      ]
    },
    {
      "cell_type": "code",
      "metadata": {
        "id": "SF5nPJd3nF28",
        "colab": {
          "base_uri": "https://localhost:8080/"
        },
        "outputId": "3a4d949c-7d14-4c77-a509-77320f476990"
      },
      "source": [
        "target.shape  # (19735,) --> one column by default"
      ],
      "execution_count": 55,
      "outputs": [
        {
          "output_type": "execute_result",
          "data": {
            "text/plain": [
              "(1312,)"
            ]
          },
          "metadata": {
            "tags": []
          },
          "execution_count": 55
        }
      ]
    },
    {
      "cell_type": "markdown",
      "metadata": {
        "id": "63CyIkjXUZO3"
      },
      "source": [
        "# Generate x_train/x_test, y_train/y_test "
      ]
    },
    {
      "cell_type": "markdown",
      "metadata": {
        "id": "FrYmSVHvplnJ"
      },
      "source": [
        "- Have to generate **y_train/y_test** (for time series prediction) based on sliding windows of input data (x_train) \r\n",
        "  \r\n",
        "  For example, taking every group of 126 records (or 1-week data) to work as x_train to create one sigle future record (y_train) since y_train does not exist in the dataset."
      ]
    },
    {
      "cell_type": "code",
      "metadata": {
        "id": "1nZA8-10pJGq"
      },
      "source": [
        "# create x_train, x_test, y_train, and y_test\r\n",
        "# 80% for training, 20% for testing and evaluation\r\n",
        "x_train, x_test, y_train, y_test = train_test_split(features, target, test_size=0.20, random_state=123, shuffle=False) # remember to set shuffle=False --> important for TS prediction"
      ],
      "execution_count": 56,
      "outputs": []
    },
    {
      "cell_type": "code",
      "metadata": {
        "id": "zazG5hTxqzyh",
        "colab": {
          "base_uri": "https://localhost:8080/"
        },
        "outputId": "466db48d-25d7-4309-a7fc-5bc913211daf"
      },
      "source": [
        "x_train.shape # 80%"
      ],
      "execution_count": 57,
      "outputs": [
        {
          "output_type": "execute_result",
          "data": {
            "text/plain": [
              "(1049, 1)"
            ]
          },
          "metadata": {
            "tags": []
          },
          "execution_count": 57
        }
      ]
    },
    {
      "cell_type": "code",
      "metadata": {
        "id": "VUo1-6-kq7lg",
        "colab": {
          "base_uri": "https://localhost:8080/"
        },
        "outputId": "7492f46b-1ff5-41a8-a378-5a4f473ac305"
      },
      "source": [
        "x_test.shape"
      ],
      "execution_count": 58,
      "outputs": [
        {
          "output_type": "execute_result",
          "data": {
            "text/plain": [
              "(263, 1)"
            ]
          },
          "metadata": {
            "tags": []
          },
          "execution_count": 58
        }
      ]
    },
    {
      "cell_type": "markdown",
      "metadata": {
        "id": "SDaZ8yQarpD5"
      },
      "source": [
        "Create **a data structure** with 126 timestamps of inputs (1 week data of each CP) --> to create 1 output"
      ]
    },
    {
      "cell_type": "code",
      "metadata": {
        "id": "XdvpKBtssPwl"
      },
      "source": [
        "# Create a data structure with 126 timestamps of inputs --> to create 1 output\r\n",
        "# using TimeSeriesGenerator() function\r\n",
        "window_length=126\r\n",
        "batch_size=32\r\n",
        "\r\n",
        "train_generator = TimeseriesGenerator(x_train, y_train, length=window_length, sampling_rate=1, batch_size=batch_size)\r\n",
        "test_generator = TimeseriesGenerator(x_test, y_test, length=window_length, sampling_rate=1, batch_size=batch_size)"
      ],
      "execution_count": 59,
      "outputs": []
    },
    {
      "cell_type": "code",
      "metadata": {
        "id": "ilRHlcfwtCQf",
        "colab": {
          "base_uri": "https://localhost:8080/"
        },
        "outputId": "e446a819-80e5-4f56-801e-a7e7c3603696"
      },
      "source": [
        "train_generator[0]  # 32 groups (batch_size) of an array of 126 arrays of x_train, and and an array of 32 values of y_train\r\n",
        "                    # Or 126 [0:125] input records (rows) --> create one output record (i.e. the value of record 127)"
      ],
      "execution_count": 60,
      "outputs": [
        {
          "output_type": "execute_result",
          "data": {
            "text/plain": [
              "(array([[[0.1033275 ],\n",
              "         [0.10858144],\n",
              "         [0.13660245],\n",
              "         ...,\n",
              "         [0.22241681],\n",
              "         [0.22416813],\n",
              "         [0.19614711]],\n",
              " \n",
              "        [[0.10858144],\n",
              "         [0.13660245],\n",
              "         [0.18388792],\n",
              "         ...,\n",
              "         [0.22416813],\n",
              "         [0.19614711],\n",
              "         [0.09457093]],\n",
              " \n",
              "        [[0.13660245],\n",
              "         [0.18388792],\n",
              "         [0.2591944 ],\n",
              "         ...,\n",
              "         [0.19614711],\n",
              "         [0.09457093],\n",
              "         [0.10858144]],\n",
              " \n",
              "        ...,\n",
              " \n",
              "        [[0.30998249],\n",
              "         [0.30122592],\n",
              "         [0.2732049 ],\n",
              "         ...,\n",
              "         [0.2469352 ],\n",
              "         [0.2732049 ],\n",
              "         [0.27145359]],\n",
              " \n",
              "        [[0.30122592],\n",
              "         [0.2732049 ],\n",
              "         [0.25043783],\n",
              "         ...,\n",
              "         [0.2732049 ],\n",
              "         [0.27145359],\n",
              "         [0.28371278]],\n",
              " \n",
              "        [[0.2732049 ],\n",
              "         [0.25043783],\n",
              "         [0.22241681],\n",
              "         ...,\n",
              "         [0.27145359],\n",
              "         [0.28371278],\n",
              "         [0.28896673]]]),\n",
              " array([0.09457093, 0.10858144, 0.12609457, 0.15936953, 0.22241681,\n",
              "        0.28896673, 0.34676007, 0.38003503, 0.39054291, 0.38353765,\n",
              "        0.3765324 , 0.3765324 , 0.36077058, 0.33099825, 0.28896673,\n",
              "        0.27495622, 0.2591944 , 0.21891419, 0.08581436, 0.09632224,\n",
              "        0.10858144, 0.12434326, 0.16987741, 0.19264448, 0.21891419,\n",
              "        0.2206655 , 0.2469352 , 0.2732049 , 0.27145359, 0.28371278,\n",
              "        0.28896673, 0.27495622]))"
            ]
          },
          "metadata": {
            "tags": []
          },
          "execution_count": 60
        }
      ]
    },
    {
      "cell_type": "code",
      "metadata": {
        "id": "mJntigqcuez8",
        "colab": {
          "base_uri": "https://localhost:8080/"
        },
        "outputId": "4a4d3bd4-637e-4ad9-8ef4-a18821e57658"
      },
      "source": [
        "# checking \r\n",
        "x_train[126]  # -->  equal to the first value in train_generator[0] array"
      ],
      "execution_count": 61,
      "outputs": [
        {
          "output_type": "execute_result",
          "data": {
            "text/plain": [
              "array([0.09457093])"
            ]
          },
          "metadata": {
            "tags": []
          },
          "execution_count": 61
        }
      ]
    },
    {
      "cell_type": "markdown",
      "metadata": {
        "id": "ZPd9TBziwxA6"
      },
      "source": [
        "# Part 2. Create a model (LSTM-based) "
      ]
    },
    {
      "cell_type": "code",
      "metadata": {
        "id": "NrTZT1YfoM7x"
      },
      "source": [
        "# Initializing the Neural Network \r\n",
        "model = tf.keras.Sequential()\r\n",
        "\r\n",
        "# Adding 1st LSTM layer\r\n",
        "model.add(tf.keras.layers.LSTM(128, input_shape=(window_length, 1), return_sequences=True))\r\n",
        "\r\n",
        "# Adding 2nd LSTM layer\r\n",
        "model.add(tf.keras.layers.LSTM(64, return_sequences=True))\r\n",
        "model.add(tf.keras.layers.Dropout(0.2)) \r\n",
        "\r\n",
        "# Adding 3rd LSTM layer\r\n",
        "model.add(tf.keras.layers.LSTM(32, return_sequences=False))\r\n",
        "model.add(tf.keras.layers.Dropout(0.2)) \r\n",
        "\r\n",
        "# Output layer\r\n",
        "model.add(tf.keras.layers.Dense(1))"
      ],
      "execution_count": 62,
      "outputs": []
    },
    {
      "cell_type": "code",
      "metadata": {
        "id": "rj11LOJn0QIV",
        "colab": {
          "base_uri": "https://localhost:8080/"
        },
        "outputId": "52a90da6-adca-48b4-ff02-1677fa64ea3e"
      },
      "source": [
        "model.summary()"
      ],
      "execution_count": 63,
      "outputs": [
        {
          "output_type": "stream",
          "text": [
            "Model: \"sequential_1\"\n",
            "_________________________________________________________________\n",
            "Layer (type)                 Output Shape              Param #   \n",
            "=================================================================\n",
            "lstm (LSTM)                  (None, 126, 128)          66560     \n",
            "_________________________________________________________________\n",
            "lstm_1 (LSTM)                (None, 126, 64)           49408     \n",
            "_________________________________________________________________\n",
            "dropout (Dropout)            (None, 126, 64)           0         \n",
            "_________________________________________________________________\n",
            "lstm_2 (LSTM)                (None, 32)                12416     \n",
            "_________________________________________________________________\n",
            "dropout_1 (Dropout)          (None, 32)                0         \n",
            "_________________________________________________________________\n",
            "dense (Dense)                (None, 1)                 33        \n",
            "=================================================================\n",
            "Total params: 128,417\n",
            "Trainable params: 128,417\n",
            "Non-trainable params: 0\n",
            "_________________________________________________________________\n"
          ],
          "name": "stdout"
        }
      ]
    },
    {
      "cell_type": "markdown",
      "metadata": {
        "id": "7hSaseM8Q8W1"
      },
      "source": [
        "# Part 3. Train the model"
      ]
    },
    {
      "cell_type": "markdown",
      "metadata": {
        "id": "EJtZzXBARFhs"
      },
      "source": [
        "Using TensorBoard (optional)"
      ]
    },
    {
      "cell_type": "code",
      "metadata": {
        "id": "-F38oGCkMpgN"
      },
      "source": [
        "tb = tf.keras.callbacks.TensorBoard(log_dir='logs',histogram_freq=1) "
      ],
      "execution_count": 64,
      "outputs": []
    },
    {
      "cell_type": "markdown",
      "metadata": {
        "id": "Po59l4y9RLbk"
      },
      "source": [
        "Configure: Checking and monitoring"
      ]
    },
    {
      "cell_type": "code",
      "metadata": {
        "id": "exZOf_E9MC6M"
      },
      "source": [
        "#---- Configure: checking and monitoring ---------------------\r\n",
        "#early_stopping = tf.keras.callbacks.EarlyStopping(monitor='val_loss', patience=50, mode='min') # \r\n",
        "early_stopping = tf.keras.callbacks.EarlyStopping(monitor='mean_absolute_error', patience=50, mode='min') # USing\r\n",
        "\r\n",
        "#---- Save model option ------------------------\r\n",
        "#model_checkpoint = tf.keras.callbacks.ModelCheckpoint(filepath='weights.h5', monitor='val_loss', verbose=1, save_best_only=True, save_weights_only=True) # not USE\r\n",
        "#model_checkpoint = tf.keras.callbacks.ModelCheckpoint(filepath='weights.h5', monitor='mean_absolute_error', verbose=1, save_best_only=True, save_weights_only=True)  # USing\r\n"
      ],
      "execution_count": 65,
      "outputs": []
    },
    {
      "cell_type": "markdown",
      "metadata": {
        "id": "qsuTa6qVRj18"
      },
      "source": [
        "Compile and Train the model"
      ]
    },
    {
      "cell_type": "code",
      "metadata": {
        "id": "GAd2EAQj04Z2",
        "colab": {
          "base_uri": "https://localhost:8080/"
        },
        "outputId": "76e5e10e-ccc4-4f21-a8bc-cdbc427cd47e"
      },
      "source": [
        "#----- Compiling the Neural Network\r\n",
        "model.compile(loss=tf.losses.MeanSquaredError(),\r\n",
        "              optimizer=tf.optimizers.Adam(),   # use Adam optimizer\r\n",
        "              metrics=[tf.metrics.MeanAbsoluteError()])   \r\n",
        "\r\n",
        "# Start training   \r\n",
        "history = model.fit( \r\n",
        "                    train_generator, \r\n",
        "                    epochs=1000,  \r\n",
        "                    validation_data=test_generator, # for model validation \r\n",
        "                    shuffle=False,\r\n",
        "                    verbose=1,                    \r\n",
        "                    #callbacks=[early_stopping, model_checkpoint, tb]  # for model saving and Tensorboard\r\n",
        "                    callbacks=[early_stopping, tb]     # for Tensorboard\r\n",
        "                    #callbacks=[early_stopping]  # for faster running without model saving and tb     \r\n",
        "                    )"
      ],
      "execution_count": 66,
      "outputs": [
        {
          "output_type": "stream",
          "text": [
            "Epoch 1/1000\n",
            "29/29 [==============================] - 2s 67ms/step - loss: 0.0382 - mean_absolute_error: 0.1520 - val_loss: 0.0326 - val_mean_absolute_error: 0.1402\n",
            "Epoch 2/1000\n",
            "29/29 [==============================] - 1s 25ms/step - loss: 0.0333 - mean_absolute_error: 0.1378 - val_loss: 0.0315 - val_mean_absolute_error: 0.1363\n",
            "Epoch 3/1000\n",
            "29/29 [==============================] - 1s 26ms/step - loss: 0.0294 - mean_absolute_error: 0.1289 - val_loss: 0.0272 - val_mean_absolute_error: 0.1241\n",
            "Epoch 4/1000\n",
            "29/29 [==============================] - 1s 26ms/step - loss: 0.0223 - mean_absolute_error: 0.1092 - val_loss: 0.0191 - val_mean_absolute_error: 0.1076\n",
            "Epoch 5/1000\n",
            "29/29 [==============================] - 1s 25ms/step - loss: 0.0149 - mean_absolute_error: 0.0908 - val_loss: 0.0119 - val_mean_absolute_error: 0.0862\n",
            "Epoch 6/1000\n",
            "29/29 [==============================] - 1s 25ms/step - loss: 0.0122 - mean_absolute_error: 0.0832 - val_loss: 0.0100 - val_mean_absolute_error: 0.0735\n",
            "Epoch 7/1000\n",
            "29/29 [==============================] - 1s 25ms/step - loss: 0.0110 - mean_absolute_error: 0.0775 - val_loss: 0.0079 - val_mean_absolute_error: 0.0668\n",
            "Epoch 8/1000\n",
            "29/29 [==============================] - 1s 25ms/step - loss: 0.0098 - mean_absolute_error: 0.0746 - val_loss: 0.0102 - val_mean_absolute_error: 0.0731\n",
            "Epoch 9/1000\n",
            "29/29 [==============================] - 1s 25ms/step - loss: 0.0086 - mean_absolute_error: 0.0689 - val_loss: 0.0076 - val_mean_absolute_error: 0.0671\n",
            "Epoch 10/1000\n",
            "29/29 [==============================] - 1s 30ms/step - loss: 0.0087 - mean_absolute_error: 0.0696 - val_loss: 0.0077 - val_mean_absolute_error: 0.0652\n",
            "Epoch 11/1000\n",
            "29/29 [==============================] - 1s 25ms/step - loss: 0.0092 - mean_absolute_error: 0.0730 - val_loss: 0.0129 - val_mean_absolute_error: 0.0844\n",
            "Epoch 12/1000\n",
            "29/29 [==============================] - 1s 25ms/step - loss: 0.0082 - mean_absolute_error: 0.0662 - val_loss: 0.0141 - val_mean_absolute_error: 0.0885\n",
            "Epoch 13/1000\n",
            "29/29 [==============================] - 1s 26ms/step - loss: 0.0100 - mean_absolute_error: 0.0719 - val_loss: 0.0073 - val_mean_absolute_error: 0.0622\n",
            "Epoch 14/1000\n",
            "29/29 [==============================] - 1s 25ms/step - loss: 0.0085 - mean_absolute_error: 0.0675 - val_loss: 0.0056 - val_mean_absolute_error: 0.0557\n",
            "Epoch 15/1000\n",
            "29/29 [==============================] - 1s 26ms/step - loss: 0.0078 - mean_absolute_error: 0.0627 - val_loss: 0.0070 - val_mean_absolute_error: 0.0611\n",
            "Epoch 16/1000\n",
            "29/29 [==============================] - 1s 25ms/step - loss: 0.0086 - mean_absolute_error: 0.0664 - val_loss: 0.0073 - val_mean_absolute_error: 0.0645\n",
            "Epoch 17/1000\n",
            "29/29 [==============================] - 1s 25ms/step - loss: 0.0088 - mean_absolute_error: 0.0683 - val_loss: 0.0058 - val_mean_absolute_error: 0.0576\n",
            "Epoch 18/1000\n",
            "29/29 [==============================] - 1s 26ms/step - loss: 0.0076 - mean_absolute_error: 0.0633 - val_loss: 0.0045 - val_mean_absolute_error: 0.0512\n",
            "Epoch 19/1000\n",
            "29/29 [==============================] - 1s 26ms/step - loss: 0.0074 - mean_absolute_error: 0.0602 - val_loss: 0.0095 - val_mean_absolute_error: 0.0725\n",
            "Epoch 20/1000\n",
            "29/29 [==============================] - 1s 25ms/step - loss: 0.0092 - mean_absolute_error: 0.0685 - val_loss: 0.0061 - val_mean_absolute_error: 0.0593\n",
            "Epoch 21/1000\n",
            "29/29 [==============================] - 1s 26ms/step - loss: 0.0072 - mean_absolute_error: 0.0627 - val_loss: 0.0048 - val_mean_absolute_error: 0.0535\n",
            "Epoch 22/1000\n",
            "29/29 [==============================] - 1s 26ms/step - loss: 0.0068 - mean_absolute_error: 0.0597 - val_loss: 0.0117 - val_mean_absolute_error: 0.0825\n",
            "Epoch 23/1000\n",
            "29/29 [==============================] - 1s 26ms/step - loss: 0.0107 - mean_absolute_error: 0.0769 - val_loss: 0.0059 - val_mean_absolute_error: 0.0595\n",
            "Epoch 24/1000\n",
            "29/29 [==============================] - 1s 26ms/step - loss: 0.0067 - mean_absolute_error: 0.0607 - val_loss: 0.0047 - val_mean_absolute_error: 0.0517\n",
            "Epoch 25/1000\n",
            "29/29 [==============================] - 1s 29ms/step - loss: 0.0062 - mean_absolute_error: 0.0574 - val_loss: 0.0056 - val_mean_absolute_error: 0.0541\n",
            "Epoch 26/1000\n",
            "29/29 [==============================] - 1s 26ms/step - loss: 0.0076 - mean_absolute_error: 0.0621 - val_loss: 0.0051 - val_mean_absolute_error: 0.0532\n",
            "Epoch 27/1000\n",
            "29/29 [==============================] - 1s 28ms/step - loss: 0.0074 - mean_absolute_error: 0.0620 - val_loss: 0.0092 - val_mean_absolute_error: 0.0707\n",
            "Epoch 28/1000\n",
            "29/29 [==============================] - 1s 26ms/step - loss: 0.0068 - mean_absolute_error: 0.0592 - val_loss: 0.0046 - val_mean_absolute_error: 0.0499\n",
            "Epoch 29/1000\n",
            "29/29 [==============================] - 1s 26ms/step - loss: 0.0063 - mean_absolute_error: 0.0580 - val_loss: 0.0081 - val_mean_absolute_error: 0.0652\n",
            "Epoch 30/1000\n",
            "29/29 [==============================] - 1s 28ms/step - loss: 0.0074 - mean_absolute_error: 0.0611 - val_loss: 0.0053 - val_mean_absolute_error: 0.0541\n",
            "Epoch 31/1000\n",
            "29/29 [==============================] - 1s 26ms/step - loss: 0.0073 - mean_absolute_error: 0.0625 - val_loss: 0.0040 - val_mean_absolute_error: 0.0463\n",
            "Epoch 32/1000\n",
            "29/29 [==============================] - 1s 25ms/step - loss: 0.0058 - mean_absolute_error: 0.0532 - val_loss: 0.0047 - val_mean_absolute_error: 0.0493\n",
            "Epoch 33/1000\n",
            "29/29 [==============================] - 1s 26ms/step - loss: 0.0060 - mean_absolute_error: 0.0554 - val_loss: 0.0037 - val_mean_absolute_error: 0.0457\n",
            "Epoch 34/1000\n",
            "29/29 [==============================] - 1s 25ms/step - loss: 0.0052 - mean_absolute_error: 0.0524 - val_loss: 0.0038 - val_mean_absolute_error: 0.0436\n",
            "Epoch 35/1000\n",
            "29/29 [==============================] - 1s 25ms/step - loss: 0.0056 - mean_absolute_error: 0.0543 - val_loss: 0.0060 - val_mean_absolute_error: 0.0541\n",
            "Epoch 36/1000\n",
            "29/29 [==============================] - 1s 29ms/step - loss: 0.0058 - mean_absolute_error: 0.0531 - val_loss: 0.0058 - val_mean_absolute_error: 0.0517\n",
            "Epoch 37/1000\n",
            "29/29 [==============================] - 1s 29ms/step - loss: 0.0064 - mean_absolute_error: 0.0559 - val_loss: 0.0047 - val_mean_absolute_error: 0.0508\n",
            "Epoch 38/1000\n",
            "29/29 [==============================] - 1s 27ms/step - loss: 0.0061 - mean_absolute_error: 0.0558 - val_loss: 0.0033 - val_mean_absolute_error: 0.0411\n",
            "Epoch 39/1000\n",
            "29/29 [==============================] - 1s 26ms/step - loss: 0.0052 - mean_absolute_error: 0.0505 - val_loss: 0.0031 - val_mean_absolute_error: 0.0386\n",
            "Epoch 40/1000\n",
            "29/29 [==============================] - 1s 26ms/step - loss: 0.0044 - mean_absolute_error: 0.0477 - val_loss: 0.0060 - val_mean_absolute_error: 0.0504\n",
            "Epoch 41/1000\n",
            "29/29 [==============================] - 1s 27ms/step - loss: 0.0056 - mean_absolute_error: 0.0538 - val_loss: 0.0033 - val_mean_absolute_error: 0.0394\n",
            "Epoch 42/1000\n",
            "29/29 [==============================] - 1s 28ms/step - loss: 0.0049 - mean_absolute_error: 0.0494 - val_loss: 0.0026 - val_mean_absolute_error: 0.0363\n",
            "Epoch 43/1000\n",
            "29/29 [==============================] - 1s 29ms/step - loss: 0.0049 - mean_absolute_error: 0.0492 - val_loss: 0.0095 - val_mean_absolute_error: 0.0635\n",
            "Epoch 44/1000\n",
            "29/29 [==============================] - 1s 26ms/step - loss: 0.0076 - mean_absolute_error: 0.0593 - val_loss: 0.0050 - val_mean_absolute_error: 0.0506\n",
            "Epoch 45/1000\n",
            "29/29 [==============================] - 1s 26ms/step - loss: 0.0063 - mean_absolute_error: 0.0562 - val_loss: 0.0044 - val_mean_absolute_error: 0.0455\n",
            "Epoch 46/1000\n",
            "29/29 [==============================] - 1s 27ms/step - loss: 0.0053 - mean_absolute_error: 0.0507 - val_loss: 0.0036 - val_mean_absolute_error: 0.0410\n",
            "Epoch 47/1000\n",
            "29/29 [==============================] - 1s 30ms/step - loss: 0.0047 - mean_absolute_error: 0.0488 - val_loss: 0.0034 - val_mean_absolute_error: 0.0405\n",
            "Epoch 48/1000\n",
            "29/29 [==============================] - 1s 27ms/step - loss: 0.0048 - mean_absolute_error: 0.0496 - val_loss: 0.0031 - val_mean_absolute_error: 0.0385\n",
            "Epoch 49/1000\n",
            "29/29 [==============================] - 1s 26ms/step - loss: 0.0047 - mean_absolute_error: 0.0463 - val_loss: 0.0049 - val_mean_absolute_error: 0.0470\n",
            "Epoch 50/1000\n",
            "29/29 [==============================] - 1s 25ms/step - loss: 0.0053 - mean_absolute_error: 0.0504 - val_loss: 0.0039 - val_mean_absolute_error: 0.0427\n",
            "Epoch 51/1000\n",
            "29/29 [==============================] - 1s 26ms/step - loss: 0.0047 - mean_absolute_error: 0.0496 - val_loss: 0.0038 - val_mean_absolute_error: 0.0427\n",
            "Epoch 52/1000\n",
            "29/29 [==============================] - 1s 26ms/step - loss: 0.0047 - mean_absolute_error: 0.0473 - val_loss: 0.0035 - val_mean_absolute_error: 0.0417\n",
            "Epoch 53/1000\n",
            "29/29 [==============================] - 1s 26ms/step - loss: 0.0044 - mean_absolute_error: 0.0470 - val_loss: 0.0026 - val_mean_absolute_error: 0.0343\n",
            "Epoch 54/1000\n",
            "29/29 [==============================] - 1s 26ms/step - loss: 0.0040 - mean_absolute_error: 0.0438 - val_loss: 0.0054 - val_mean_absolute_error: 0.0472\n",
            "Epoch 55/1000\n",
            "29/29 [==============================] - 1s 27ms/step - loss: 0.0053 - mean_absolute_error: 0.0492 - val_loss: 0.0031 - val_mean_absolute_error: 0.0375\n",
            "Epoch 56/1000\n",
            "29/29 [==============================] - 1s 26ms/step - loss: 0.0041 - mean_absolute_error: 0.0444 - val_loss: 0.0028 - val_mean_absolute_error: 0.0346\n",
            "Epoch 57/1000\n",
            "29/29 [==============================] - 1s 27ms/step - loss: 0.0037 - mean_absolute_error: 0.0420 - val_loss: 0.0033 - val_mean_absolute_error: 0.0364\n",
            "Epoch 58/1000\n",
            "29/29 [==============================] - 1s 26ms/step - loss: 0.0045 - mean_absolute_error: 0.0459 - val_loss: 0.0031 - val_mean_absolute_error: 0.0405\n",
            "Epoch 59/1000\n",
            "29/29 [==============================] - 1s 26ms/step - loss: 0.0042 - mean_absolute_error: 0.0437 - val_loss: 0.0036 - val_mean_absolute_error: 0.0374\n",
            "Epoch 60/1000\n",
            "29/29 [==============================] - 1s 29ms/step - loss: 0.0045 - mean_absolute_error: 0.0452 - val_loss: 0.0029 - val_mean_absolute_error: 0.0359\n",
            "Epoch 61/1000\n",
            "29/29 [==============================] - 1s 29ms/step - loss: 0.0040 - mean_absolute_error: 0.0442 - val_loss: 0.0026 - val_mean_absolute_error: 0.0328\n",
            "Epoch 62/1000\n",
            "29/29 [==============================] - 1s 29ms/step - loss: 0.0038 - mean_absolute_error: 0.0426 - val_loss: 0.0030 - val_mean_absolute_error: 0.0340\n",
            "Epoch 63/1000\n",
            "29/29 [==============================] - 1s 28ms/step - loss: 0.0041 - mean_absolute_error: 0.0424 - val_loss: 0.0042 - val_mean_absolute_error: 0.0386\n",
            "Epoch 64/1000\n",
            "29/29 [==============================] - 1s 28ms/step - loss: 0.0041 - mean_absolute_error: 0.0426 - val_loss: 0.0033 - val_mean_absolute_error: 0.0391\n",
            "Epoch 65/1000\n",
            "29/29 [==============================] - 1s 25ms/step - loss: 0.0039 - mean_absolute_error: 0.0439 - val_loss: 0.0044 - val_mean_absolute_error: 0.0403\n",
            "Epoch 66/1000\n",
            "29/29 [==============================] - 1s 26ms/step - loss: 0.0039 - mean_absolute_error: 0.0425 - val_loss: 0.0026 - val_mean_absolute_error: 0.0315\n",
            "Epoch 67/1000\n",
            "29/29 [==============================] - 1s 25ms/step - loss: 0.0028 - mean_absolute_error: 0.0380 - val_loss: 0.0049 - val_mean_absolute_error: 0.0408\n",
            "Epoch 68/1000\n",
            "29/29 [==============================] - 1s 27ms/step - loss: 0.0040 - mean_absolute_error: 0.0429 - val_loss: 0.0028 - val_mean_absolute_error: 0.0355\n",
            "Epoch 69/1000\n",
            "29/29 [==============================] - 1s 26ms/step - loss: 0.0035 - mean_absolute_error: 0.0411 - val_loss: 0.0065 - val_mean_absolute_error: 0.0478\n",
            "Epoch 70/1000\n",
            "29/29 [==============================] - 1s 25ms/step - loss: 0.0046 - mean_absolute_error: 0.0448 - val_loss: 0.0027 - val_mean_absolute_error: 0.0330\n",
            "Epoch 71/1000\n",
            "29/29 [==============================] - 1s 25ms/step - loss: 0.0033 - mean_absolute_error: 0.0394 - val_loss: 0.0033 - val_mean_absolute_error: 0.0342\n",
            "Epoch 72/1000\n",
            "29/29 [==============================] - 1s 26ms/step - loss: 0.0036 - mean_absolute_error: 0.0406 - val_loss: 0.0025 - val_mean_absolute_error: 0.0308\n",
            "Epoch 73/1000\n",
            "29/29 [==============================] - 1s 26ms/step - loss: 0.0031 - mean_absolute_error: 0.0391 - val_loss: 0.0046 - val_mean_absolute_error: 0.0389\n",
            "Epoch 74/1000\n",
            "29/29 [==============================] - 1s 26ms/step - loss: 0.0043 - mean_absolute_error: 0.0429 - val_loss: 0.0026 - val_mean_absolute_error: 0.0324\n",
            "Epoch 75/1000\n",
            "29/29 [==============================] - 1s 26ms/step - loss: 0.0036 - mean_absolute_error: 0.0386 - val_loss: 0.0041 - val_mean_absolute_error: 0.0371\n",
            "Epoch 76/1000\n",
            "29/29 [==============================] - 1s 25ms/step - loss: 0.0042 - mean_absolute_error: 0.0413 - val_loss: 0.0026 - val_mean_absolute_error: 0.0320\n",
            "Epoch 77/1000\n",
            "29/29 [==============================] - 1s 27ms/step - loss: 0.0032 - mean_absolute_error: 0.0375 - val_loss: 0.0035 - val_mean_absolute_error: 0.0355\n",
            "Epoch 78/1000\n",
            "29/29 [==============================] - 1s 26ms/step - loss: 0.0036 - mean_absolute_error: 0.0399 - val_loss: 0.0024 - val_mean_absolute_error: 0.0306\n",
            "Epoch 79/1000\n",
            "29/29 [==============================] - 1s 29ms/step - loss: 0.0031 - mean_absolute_error: 0.0371 - val_loss: 0.0046 - val_mean_absolute_error: 0.0390\n",
            "Epoch 80/1000\n",
            "29/29 [==============================] - 1s 25ms/step - loss: 0.0050 - mean_absolute_error: 0.0433 - val_loss: 0.0031 - val_mean_absolute_error: 0.0355\n",
            "Epoch 81/1000\n",
            "29/29 [==============================] - 1s 27ms/step - loss: 0.0036 - mean_absolute_error: 0.0395 - val_loss: 0.0029 - val_mean_absolute_error: 0.0316\n",
            "Epoch 82/1000\n",
            "29/29 [==============================] - 1s 26ms/step - loss: 0.0032 - mean_absolute_error: 0.0371 - val_loss: 0.0027 - val_mean_absolute_error: 0.0297\n",
            "Epoch 83/1000\n",
            "29/29 [==============================] - 1s 26ms/step - loss: 0.0029 - mean_absolute_error: 0.0362 - val_loss: 0.0038 - val_mean_absolute_error: 0.0344\n",
            "Epoch 84/1000\n",
            "29/29 [==============================] - 1s 27ms/step - loss: 0.0032 - mean_absolute_error: 0.0378 - val_loss: 0.0022 - val_mean_absolute_error: 0.0291\n",
            "Epoch 85/1000\n",
            "29/29 [==============================] - 1s 25ms/step - loss: 0.0026 - mean_absolute_error: 0.0349 - val_loss: 0.0021 - val_mean_absolute_error: 0.0299\n",
            "Epoch 86/1000\n",
            "29/29 [==============================] - 1s 26ms/step - loss: 0.0031 - mean_absolute_error: 0.0364 - val_loss: 0.0053 - val_mean_absolute_error: 0.0419\n",
            "Epoch 87/1000\n",
            "29/29 [==============================] - 1s 26ms/step - loss: 0.0056 - mean_absolute_error: 0.0447 - val_loss: 0.0036 - val_mean_absolute_error: 0.0363\n",
            "Epoch 88/1000\n",
            "29/29 [==============================] - 1s 27ms/step - loss: 0.0040 - mean_absolute_error: 0.0412 - val_loss: 0.0030 - val_mean_absolute_error: 0.0316\n",
            "Epoch 89/1000\n",
            "29/29 [==============================] - 1s 29ms/step - loss: 0.0037 - mean_absolute_error: 0.0386 - val_loss: 0.0030 - val_mean_absolute_error: 0.0332\n",
            "Epoch 90/1000\n",
            "29/29 [==============================] - 1s 25ms/step - loss: 0.0034 - mean_absolute_error: 0.0390 - val_loss: 0.0029 - val_mean_absolute_error: 0.0291\n",
            "Epoch 91/1000\n",
            "29/29 [==============================] - 1s 26ms/step - loss: 0.0034 - mean_absolute_error: 0.0362 - val_loss: 0.0026 - val_mean_absolute_error: 0.0303\n",
            "Epoch 92/1000\n",
            "29/29 [==============================] - 1s 27ms/step - loss: 0.0032 - mean_absolute_error: 0.0367 - val_loss: 0.0028 - val_mean_absolute_error: 0.0305\n",
            "Epoch 93/1000\n",
            "29/29 [==============================] - 1s 27ms/step - loss: 0.0031 - mean_absolute_error: 0.0364 - val_loss: 0.0025 - val_mean_absolute_error: 0.0285\n",
            "Epoch 94/1000\n",
            "29/29 [==============================] - 1s 26ms/step - loss: 0.0027 - mean_absolute_error: 0.0341 - val_loss: 0.0047 - val_mean_absolute_error: 0.0404\n",
            "Epoch 95/1000\n",
            "29/29 [==============================] - 1s 26ms/step - loss: 0.0049 - mean_absolute_error: 0.0427 - val_loss: 0.0035 - val_mean_absolute_error: 0.0330\n",
            "Epoch 96/1000\n",
            "29/29 [==============================] - 1s 30ms/step - loss: 0.0037 - mean_absolute_error: 0.0367 - val_loss: 0.0026 - val_mean_absolute_error: 0.0315\n",
            "Epoch 97/1000\n",
            "29/29 [==============================] - 1s 29ms/step - loss: 0.0035 - mean_absolute_error: 0.0384 - val_loss: 0.0027 - val_mean_absolute_error: 0.0302\n",
            "Epoch 98/1000\n",
            "29/29 [==============================] - 1s 27ms/step - loss: 0.0030 - mean_absolute_error: 0.0350 - val_loss: 0.0026 - val_mean_absolute_error: 0.0284\n",
            "Epoch 99/1000\n",
            "29/29 [==============================] - 1s 26ms/step - loss: 0.0029 - mean_absolute_error: 0.0352 - val_loss: 0.0023 - val_mean_absolute_error: 0.0284\n",
            "Epoch 100/1000\n",
            "29/29 [==============================] - 1s 26ms/step - loss: 0.0033 - mean_absolute_error: 0.0364 - val_loss: 0.0049 - val_mean_absolute_error: 0.0386\n",
            "Epoch 101/1000\n",
            "29/29 [==============================] - 1s 26ms/step - loss: 0.0046 - mean_absolute_error: 0.0408 - val_loss: 0.0031 - val_mean_absolute_error: 0.0310\n",
            "Epoch 102/1000\n",
            "29/29 [==============================] - 1s 26ms/step - loss: 0.0038 - mean_absolute_error: 0.0375 - val_loss: 0.0025 - val_mean_absolute_error: 0.0296\n",
            "Epoch 103/1000\n",
            "29/29 [==============================] - 1s 31ms/step - loss: 0.0030 - mean_absolute_error: 0.0361 - val_loss: 0.0025 - val_mean_absolute_error: 0.0305\n",
            "Epoch 104/1000\n",
            "29/29 [==============================] - 1s 26ms/step - loss: 0.0031 - mean_absolute_error: 0.0362 - val_loss: 0.0040 - val_mean_absolute_error: 0.0338\n",
            "Epoch 105/1000\n",
            "29/29 [==============================] - 1s 27ms/step - loss: 0.0041 - mean_absolute_error: 0.0388 - val_loss: 0.0029 - val_mean_absolute_error: 0.0321\n",
            "Epoch 106/1000\n",
            "29/29 [==============================] - 1s 26ms/step - loss: 0.0033 - mean_absolute_error: 0.0365 - val_loss: 0.0025 - val_mean_absolute_error: 0.0288\n",
            "Epoch 107/1000\n",
            "29/29 [==============================] - 1s 27ms/step - loss: 0.0030 - mean_absolute_error: 0.0349 - val_loss: 0.0033 - val_mean_absolute_error: 0.0316\n",
            "Epoch 108/1000\n",
            "29/29 [==============================] - 1s 29ms/step - loss: 0.0033 - mean_absolute_error: 0.0359 - val_loss: 0.0022 - val_mean_absolute_error: 0.0282\n",
            "Epoch 109/1000\n",
            "29/29 [==============================] - 1s 26ms/step - loss: 0.0027 - mean_absolute_error: 0.0342 - val_loss: 0.0037 - val_mean_absolute_error: 0.0334\n",
            "Epoch 110/1000\n",
            "29/29 [==============================] - 1s 26ms/step - loss: 0.0036 - mean_absolute_error: 0.0376 - val_loss: 0.0024 - val_mean_absolute_error: 0.0284\n",
            "Epoch 111/1000\n",
            "29/29 [==============================] - 1s 26ms/step - loss: 0.0027 - mean_absolute_error: 0.0345 - val_loss: 0.0029 - val_mean_absolute_error: 0.0303\n",
            "Epoch 112/1000\n",
            "29/29 [==============================] - 1s 26ms/step - loss: 0.0028 - mean_absolute_error: 0.0352 - val_loss: 0.0038 - val_mean_absolute_error: 0.0350\n",
            "Epoch 113/1000\n",
            "29/29 [==============================] - 1s 26ms/step - loss: 0.0033 - mean_absolute_error: 0.0378 - val_loss: 0.0024 - val_mean_absolute_error: 0.0310\n",
            "Epoch 114/1000\n",
            "29/29 [==============================] - 1s 29ms/step - loss: 0.0026 - mean_absolute_error: 0.0338 - val_loss: 0.0042 - val_mean_absolute_error: 0.0341\n",
            "Epoch 115/1000\n",
            "29/29 [==============================] - 1s 26ms/step - loss: 0.0035 - mean_absolute_error: 0.0373 - val_loss: 0.0022 - val_mean_absolute_error: 0.0310\n",
            "Epoch 116/1000\n",
            "29/29 [==============================] - 1s 26ms/step - loss: 0.0026 - mean_absolute_error: 0.0341 - val_loss: 0.0028 - val_mean_absolute_error: 0.0307\n",
            "Epoch 117/1000\n",
            "29/29 [==============================] - 1s 26ms/step - loss: 0.0027 - mean_absolute_error: 0.0349 - val_loss: 0.0050 - val_mean_absolute_error: 0.0396\n",
            "Epoch 118/1000\n",
            "29/29 [==============================] - 1s 27ms/step - loss: 0.0040 - mean_absolute_error: 0.0381 - val_loss: 0.0025 - val_mean_absolute_error: 0.0299\n",
            "Epoch 119/1000\n",
            "29/29 [==============================] - 1s 28ms/step - loss: 0.0027 - mean_absolute_error: 0.0340 - val_loss: 0.0026 - val_mean_absolute_error: 0.0302\n",
            "Epoch 120/1000\n",
            "29/29 [==============================] - 1s 30ms/step - loss: 0.0024 - mean_absolute_error: 0.0322 - val_loss: 0.0035 - val_mean_absolute_error: 0.0336\n",
            "Epoch 121/1000\n",
            "29/29 [==============================] - 1s 31ms/step - loss: 0.0031 - mean_absolute_error: 0.0352 - val_loss: 0.0022 - val_mean_absolute_error: 0.0295\n",
            "Epoch 122/1000\n",
            "29/29 [==============================] - 1s 28ms/step - loss: 0.0024 - mean_absolute_error: 0.0330 - val_loss: 0.0054 - val_mean_absolute_error: 0.0390\n",
            "Epoch 123/1000\n",
            "29/29 [==============================] - 1s 28ms/step - loss: 0.0046 - mean_absolute_error: 0.0399 - val_loss: 0.0029 - val_mean_absolute_error: 0.0331\n",
            "Epoch 124/1000\n",
            "29/29 [==============================] - 1s 27ms/step - loss: 0.0031 - mean_absolute_error: 0.0360 - val_loss: 0.0024 - val_mean_absolute_error: 0.0292\n",
            "Epoch 125/1000\n",
            "29/29 [==============================] - 1s 29ms/step - loss: 0.0029 - mean_absolute_error: 0.0348 - val_loss: 0.0046 - val_mean_absolute_error: 0.0377\n",
            "Epoch 126/1000\n",
            "29/29 [==============================] - 1s 30ms/step - loss: 0.0041 - mean_absolute_error: 0.0388 - val_loss: 0.0025 - val_mean_absolute_error: 0.0308\n",
            "Epoch 127/1000\n",
            "29/29 [==============================] - 1s 28ms/step - loss: 0.0030 - mean_absolute_error: 0.0353 - val_loss: 0.0025 - val_mean_absolute_error: 0.0298\n",
            "Epoch 128/1000\n",
            "29/29 [==============================] - 1s 27ms/step - loss: 0.0026 - mean_absolute_error: 0.0335 - val_loss: 0.0030 - val_mean_absolute_error: 0.0303\n",
            "Epoch 129/1000\n",
            "29/29 [==============================] - 1s 28ms/step - loss: 0.0026 - mean_absolute_error: 0.0338 - val_loss: 0.0030 - val_mean_absolute_error: 0.0301\n",
            "Epoch 130/1000\n",
            "29/29 [==============================] - 1s 26ms/step - loss: 0.0027 - mean_absolute_error: 0.0339 - val_loss: 0.0036 - val_mean_absolute_error: 0.0354\n",
            "Epoch 131/1000\n",
            "29/29 [==============================] - 1s 29ms/step - loss: 0.0028 - mean_absolute_error: 0.0347 - val_loss: 0.0021 - val_mean_absolute_error: 0.0278\n",
            "Epoch 132/1000\n",
            "29/29 [==============================] - 1s 27ms/step - loss: 0.0021 - mean_absolute_error: 0.0317 - val_loss: 0.0050 - val_mean_absolute_error: 0.0367\n",
            "Epoch 133/1000\n",
            "29/29 [==============================] - 1s 27ms/step - loss: 0.0041 - mean_absolute_error: 0.0390 - val_loss: 0.0022 - val_mean_absolute_error: 0.0295\n",
            "Epoch 134/1000\n",
            "29/29 [==============================] - 1s 26ms/step - loss: 0.0028 - mean_absolute_error: 0.0344 - val_loss: 0.0056 - val_mean_absolute_error: 0.0424\n",
            "Epoch 135/1000\n",
            "29/29 [==============================] - 1s 28ms/step - loss: 0.0045 - mean_absolute_error: 0.0368 - val_loss: 0.0031 - val_mean_absolute_error: 0.0320\n",
            "Epoch 136/1000\n",
            "29/29 [==============================] - 1s 27ms/step - loss: 0.0037 - mean_absolute_error: 0.0381 - val_loss: 0.0028 - val_mean_absolute_error: 0.0292\n",
            "Epoch 137/1000\n",
            "29/29 [==============================] - 1s 26ms/step - loss: 0.0030 - mean_absolute_error: 0.0338 - val_loss: 0.0025 - val_mean_absolute_error: 0.0299\n",
            "Epoch 138/1000\n",
            "29/29 [==============================] - 1s 26ms/step - loss: 0.0025 - mean_absolute_error: 0.0332 - val_loss: 0.0025 - val_mean_absolute_error: 0.0303\n",
            "Epoch 139/1000\n",
            "29/29 [==============================] - 1s 26ms/step - loss: 0.0026 - mean_absolute_error: 0.0341 - val_loss: 0.0053 - val_mean_absolute_error: 0.0402\n",
            "Epoch 140/1000\n",
            "29/29 [==============================] - 1s 26ms/step - loss: 0.0043 - mean_absolute_error: 0.0384 - val_loss: 0.0026 - val_mean_absolute_error: 0.0314\n",
            "Epoch 141/1000\n",
            "29/29 [==============================] - 1s 27ms/step - loss: 0.0031 - mean_absolute_error: 0.0359 - val_loss: 0.0028 - val_mean_absolute_error: 0.0328\n",
            "Epoch 142/1000\n",
            "29/29 [==============================] - 1s 29ms/step - loss: 0.0028 - mean_absolute_error: 0.0341 - val_loss: 0.0023 - val_mean_absolute_error: 0.0282\n",
            "Epoch 143/1000\n",
            "29/29 [==============================] - 1s 27ms/step - loss: 0.0026 - mean_absolute_error: 0.0327 - val_loss: 0.0031 - val_mean_absolute_error: 0.0303\n",
            "Epoch 144/1000\n",
            "29/29 [==============================] - 1s 26ms/step - loss: 0.0029 - mean_absolute_error: 0.0340 - val_loss: 0.0020 - val_mean_absolute_error: 0.0266\n",
            "Epoch 145/1000\n",
            "29/29 [==============================] - 1s 27ms/step - loss: 0.0025 - mean_absolute_error: 0.0313 - val_loss: 0.0055 - val_mean_absolute_error: 0.0428\n",
            "Epoch 146/1000\n",
            "29/29 [==============================] - 1s 25ms/step - loss: 0.0049 - mean_absolute_error: 0.0391 - val_loss: 0.0036 - val_mean_absolute_error: 0.0318\n",
            "Epoch 147/1000\n",
            "29/29 [==============================] - 1s 26ms/step - loss: 0.0037 - mean_absolute_error: 0.0364 - val_loss: 0.0030 - val_mean_absolute_error: 0.0292\n",
            "Epoch 148/1000\n",
            "29/29 [==============================] - 1s 27ms/step - loss: 0.0035 - mean_absolute_error: 0.0363 - val_loss: 0.0027 - val_mean_absolute_error: 0.0306\n",
            "Epoch 149/1000\n",
            "29/29 [==============================] - 1s 26ms/step - loss: 0.0029 - mean_absolute_error: 0.0352 - val_loss: 0.0025 - val_mean_absolute_error: 0.0297\n",
            "Epoch 150/1000\n",
            "29/29 [==============================] - 1s 26ms/step - loss: 0.0024 - mean_absolute_error: 0.0320 - val_loss: 0.0029 - val_mean_absolute_error: 0.0318\n",
            "Epoch 151/1000\n",
            "29/29 [==============================] - 1s 27ms/step - loss: 0.0026 - mean_absolute_error: 0.0335 - val_loss: 0.0027 - val_mean_absolute_error: 0.0300\n",
            "Epoch 152/1000\n",
            "29/29 [==============================] - 1s 26ms/step - loss: 0.0021 - mean_absolute_error: 0.0316 - val_loss: 0.0035 - val_mean_absolute_error: 0.0314\n",
            "Epoch 153/1000\n",
            "29/29 [==============================] - 1s 28ms/step - loss: 0.0028 - mean_absolute_error: 0.0341 - val_loss: 0.0025 - val_mean_absolute_error: 0.0303\n",
            "Epoch 154/1000\n",
            "29/29 [==============================] - 1s 27ms/step - loss: 0.0025 - mean_absolute_error: 0.0328 - val_loss: 0.0021 - val_mean_absolute_error: 0.0276\n",
            "Epoch 155/1000\n",
            "29/29 [==============================] - 1s 26ms/step - loss: 0.0025 - mean_absolute_error: 0.0326 - val_loss: 0.0057 - val_mean_absolute_error: 0.0406\n",
            "Epoch 156/1000\n",
            "29/29 [==============================] - 1s 26ms/step - loss: 0.0045 - mean_absolute_error: 0.0384 - val_loss: 0.0034 - val_mean_absolute_error: 0.0355\n",
            "Epoch 157/1000\n",
            "29/29 [==============================] - 1s 26ms/step - loss: 0.0038 - mean_absolute_error: 0.0379 - val_loss: 0.0034 - val_mean_absolute_error: 0.0300\n",
            "Epoch 158/1000\n",
            "29/29 [==============================] - 1s 29ms/step - loss: 0.0037 - mean_absolute_error: 0.0376 - val_loss: 0.0029 - val_mean_absolute_error: 0.0302\n",
            "Epoch 159/1000\n",
            "29/29 [==============================] - 1s 28ms/step - loss: 0.0035 - mean_absolute_error: 0.0374 - val_loss: 0.0030 - val_mean_absolute_error: 0.0300\n",
            "Epoch 160/1000\n",
            "29/29 [==============================] - 1s 27ms/step - loss: 0.0032 - mean_absolute_error: 0.0356 - val_loss: 0.0034 - val_mean_absolute_error: 0.0351\n",
            "Epoch 161/1000\n",
            "29/29 [==============================] - 1s 26ms/step - loss: 0.0032 - mean_absolute_error: 0.0361 - val_loss: 0.0026 - val_mean_absolute_error: 0.0308\n",
            "Epoch 162/1000\n",
            "29/29 [==============================] - 1s 26ms/step - loss: 0.0026 - mean_absolute_error: 0.0331 - val_loss: 0.0043 - val_mean_absolute_error: 0.0380\n",
            "Epoch 163/1000\n",
            "29/29 [==============================] - 1s 26ms/step - loss: 0.0035 - mean_absolute_error: 0.0365 - val_loss: 0.0022 - val_mean_absolute_error: 0.0291\n",
            "Epoch 164/1000\n",
            "29/29 [==============================] - 1s 27ms/step - loss: 0.0027 - mean_absolute_error: 0.0344 - val_loss: 0.0036 - val_mean_absolute_error: 0.0339\n",
            "Epoch 165/1000\n",
            "29/29 [==============================] - 1s 27ms/step - loss: 0.0032 - mean_absolute_error: 0.0348 - val_loss: 0.0021 - val_mean_absolute_error: 0.0291\n",
            "Epoch 166/1000\n",
            "29/29 [==============================] - 1s 29ms/step - loss: 0.0028 - mean_absolute_error: 0.0347 - val_loss: 0.0024 - val_mean_absolute_error: 0.0296\n",
            "Epoch 167/1000\n",
            "29/29 [==============================] - 1s 29ms/step - loss: 0.0023 - mean_absolute_error: 0.0316 - val_loss: 0.0031 - val_mean_absolute_error: 0.0310\n",
            "Epoch 168/1000\n",
            "29/29 [==============================] - 1s 29ms/step - loss: 0.0026 - mean_absolute_error: 0.0336 - val_loss: 0.0029 - val_mean_absolute_error: 0.0340\n",
            "Epoch 169/1000\n",
            "29/29 [==============================] - 1s 26ms/step - loss: 0.0023 - mean_absolute_error: 0.0312 - val_loss: 0.0040 - val_mean_absolute_error: 0.0351\n",
            "Epoch 170/1000\n",
            "29/29 [==============================] - 1s 26ms/step - loss: 0.0033 - mean_absolute_error: 0.0347 - val_loss: 0.0021 - val_mean_absolute_error: 0.0292\n",
            "Epoch 171/1000\n",
            "29/29 [==============================] - 1s 26ms/step - loss: 0.0026 - mean_absolute_error: 0.0343 - val_loss: 0.0028 - val_mean_absolute_error: 0.0318\n",
            "Epoch 172/1000\n",
            "29/29 [==============================] - 1s 26ms/step - loss: 0.0024 - mean_absolute_error: 0.0311 - val_loss: 0.0022 - val_mean_absolute_error: 0.0285\n",
            "Epoch 173/1000\n",
            "29/29 [==============================] - 1s 27ms/step - loss: 0.0021 - mean_absolute_error: 0.0314 - val_loss: 0.0021 - val_mean_absolute_error: 0.0275\n",
            "Epoch 174/1000\n",
            "29/29 [==============================] - 1s 26ms/step - loss: 0.0020 - mean_absolute_error: 0.0308 - val_loss: 0.0041 - val_mean_absolute_error: 0.0330\n",
            "Epoch 175/1000\n",
            "29/29 [==============================] - 1s 29ms/step - loss: 0.0026 - mean_absolute_error: 0.0330 - val_loss: 0.0019 - val_mean_absolute_error: 0.0283\n",
            "Epoch 176/1000\n",
            "29/29 [==============================] - 1s 29ms/step - loss: 0.0028 - mean_absolute_error: 0.0312 - val_loss: 0.0055 - val_mean_absolute_error: 0.0402\n",
            "Epoch 177/1000\n",
            "29/29 [==============================] - 1s 26ms/step - loss: 0.0050 - mean_absolute_error: 0.0398 - val_loss: 0.0035 - val_mean_absolute_error: 0.0313\n",
            "Epoch 178/1000\n",
            "29/29 [==============================] - 1s 27ms/step - loss: 0.0039 - mean_absolute_error: 0.0379 - val_loss: 0.0036 - val_mean_absolute_error: 0.0312\n",
            "Epoch 179/1000\n",
            "29/29 [==============================] - 1s 26ms/step - loss: 0.0037 - mean_absolute_error: 0.0369 - val_loss: 0.0035 - val_mean_absolute_error: 0.0319\n",
            "Epoch 180/1000\n",
            "29/29 [==============================] - 1s 26ms/step - loss: 0.0035 - mean_absolute_error: 0.0361 - val_loss: 0.0028 - val_mean_absolute_error: 0.0291\n",
            "Epoch 181/1000\n",
            "29/29 [==============================] - 1s 26ms/step - loss: 0.0031 - mean_absolute_error: 0.0359 - val_loss: 0.0027 - val_mean_absolute_error: 0.0302\n",
            "Epoch 182/1000\n",
            "29/29 [==============================] - 1s 30ms/step - loss: 0.0033 - mean_absolute_error: 0.0362 - val_loss: 0.0030 - val_mean_absolute_error: 0.0326\n",
            "Epoch 183/1000\n",
            "29/29 [==============================] - 1s 30ms/step - loss: 0.0030 - mean_absolute_error: 0.0361 - val_loss: 0.0027 - val_mean_absolute_error: 0.0307\n",
            "Epoch 184/1000\n",
            "29/29 [==============================] - 1s 27ms/step - loss: 0.0032 - mean_absolute_error: 0.0363 - val_loss: 0.0041 - val_mean_absolute_error: 0.0356\n",
            "Epoch 185/1000\n",
            "29/29 [==============================] - 1s 27ms/step - loss: 0.0034 - mean_absolute_error: 0.0344 - val_loss: 0.0025 - val_mean_absolute_error: 0.0298\n",
            "Epoch 186/1000\n",
            "29/29 [==============================] - 1s 26ms/step - loss: 0.0027 - mean_absolute_error: 0.0346 - val_loss: 0.0026 - val_mean_absolute_error: 0.0311\n",
            "Epoch 187/1000\n",
            "29/29 [==============================] - 1s 26ms/step - loss: 0.0025 - mean_absolute_error: 0.0327 - val_loss: 0.0032 - val_mean_absolute_error: 0.0341\n",
            "Epoch 188/1000\n",
            "29/29 [==============================] - 1s 30ms/step - loss: 0.0026 - mean_absolute_error: 0.0338 - val_loss: 0.0026 - val_mean_absolute_error: 0.0309\n",
            "Epoch 189/1000\n",
            "29/29 [==============================] - 1s 27ms/step - loss: 0.0023 - mean_absolute_error: 0.0326 - val_loss: 0.0027 - val_mean_absolute_error: 0.0304\n",
            "Epoch 190/1000\n",
            "29/29 [==============================] - 1s 26ms/step - loss: 0.0021 - mean_absolute_error: 0.0310 - val_loss: 0.0017 - val_mean_absolute_error: 0.0270\n",
            "Epoch 191/1000\n",
            "29/29 [==============================] - 1s 27ms/step - loss: 0.0021 - mean_absolute_error: 0.0310 - val_loss: 0.0033 - val_mean_absolute_error: 0.0305\n",
            "Epoch 192/1000\n",
            "29/29 [==============================] - 1s 26ms/step - loss: 0.0026 - mean_absolute_error: 0.0317 - val_loss: 0.0055 - val_mean_absolute_error: 0.0403\n",
            "Epoch 193/1000\n",
            "29/29 [==============================] - 1s 29ms/step - loss: 0.0048 - mean_absolute_error: 0.0373 - val_loss: 0.0035 - val_mean_absolute_error: 0.0299\n",
            "Epoch 194/1000\n",
            "29/29 [==============================] - 1s 30ms/step - loss: 0.0037 - mean_absolute_error: 0.0355 - val_loss: 0.0031 - val_mean_absolute_error: 0.0298\n",
            "Epoch 195/1000\n",
            "29/29 [==============================] - 1s 26ms/step - loss: 0.0033 - mean_absolute_error: 0.0360 - val_loss: 0.0027 - val_mean_absolute_error: 0.0315\n",
            "Epoch 196/1000\n",
            "29/29 [==============================] - 1s 26ms/step - loss: 0.0029 - mean_absolute_error: 0.0352 - val_loss: 0.0029 - val_mean_absolute_error: 0.0330\n",
            "Epoch 197/1000\n",
            "29/29 [==============================] - 1s 26ms/step - loss: 0.0029 - mean_absolute_error: 0.0342 - val_loss: 0.0033 - val_mean_absolute_error: 0.0343\n",
            "Epoch 198/1000\n",
            "29/29 [==============================] - 1s 26ms/step - loss: 0.0031 - mean_absolute_error: 0.0356 - val_loss: 0.0029 - val_mean_absolute_error: 0.0328\n",
            "Epoch 199/1000\n",
            "29/29 [==============================] - 1s 26ms/step - loss: 0.0028 - mean_absolute_error: 0.0344 - val_loss: 0.0037 - val_mean_absolute_error: 0.0355\n",
            "Epoch 200/1000\n",
            "29/29 [==============================] - 1s 27ms/step - loss: 0.0032 - mean_absolute_error: 0.0344 - val_loss: 0.0023 - val_mean_absolute_error: 0.0301\n",
            "Epoch 201/1000\n",
            "29/29 [==============================] - 1s 26ms/step - loss: 0.0025 - mean_absolute_error: 0.0331 - val_loss: 0.0039 - val_mean_absolute_error: 0.0348\n",
            "Epoch 202/1000\n",
            "29/29 [==============================] - 1s 26ms/step - loss: 0.0033 - mean_absolute_error: 0.0346 - val_loss: 0.0024 - val_mean_absolute_error: 0.0319\n",
            "Epoch 203/1000\n",
            "29/29 [==============================] - 1s 27ms/step - loss: 0.0028 - mean_absolute_error: 0.0342 - val_loss: 0.0032 - val_mean_absolute_error: 0.0333\n",
            "Epoch 204/1000\n",
            "29/29 [==============================] - 1s 26ms/step - loss: 0.0029 - mean_absolute_error: 0.0315 - val_loss: 0.0020 - val_mean_absolute_error: 0.0266\n",
            "Epoch 205/1000\n",
            "29/29 [==============================] - 1s 26ms/step - loss: 0.0023 - mean_absolute_error: 0.0318 - val_loss: 0.0025 - val_mean_absolute_error: 0.0299\n",
            "Epoch 206/1000\n",
            "29/29 [==============================] - 1s 30ms/step - loss: 0.0023 - mean_absolute_error: 0.0318 - val_loss: 0.0031 - val_mean_absolute_error: 0.0325\n",
            "Epoch 207/1000\n",
            "29/29 [==============================] - 1s 27ms/step - loss: 0.0024 - mean_absolute_error: 0.0320 - val_loss: 0.0034 - val_mean_absolute_error: 0.0329\n",
            "Epoch 208/1000\n",
            "29/29 [==============================] - 1s 26ms/step - loss: 0.0028 - mean_absolute_error: 0.0316 - val_loss: 0.0041 - val_mean_absolute_error: 0.0364\n",
            "Epoch 209/1000\n",
            "29/29 [==============================] - 1s 26ms/step - loss: 0.0040 - mean_absolute_error: 0.0370 - val_loss: 0.0022 - val_mean_absolute_error: 0.0302\n",
            "Epoch 210/1000\n",
            "29/29 [==============================] - 1s 26ms/step - loss: 0.0024 - mean_absolute_error: 0.0328 - val_loss: 0.0028 - val_mean_absolute_error: 0.0320\n",
            "Epoch 211/1000\n",
            "29/29 [==============================] - 1s 27ms/step - loss: 0.0027 - mean_absolute_error: 0.0314 - val_loss: 0.0021 - val_mean_absolute_error: 0.0288\n",
            "Epoch 212/1000\n",
            "29/29 [==============================] - 1s 26ms/step - loss: 0.0026 - mean_absolute_error: 0.0332 - val_loss: 0.0030 - val_mean_absolute_error: 0.0322\n",
            "Epoch 213/1000\n",
            "29/29 [==============================] - 1s 27ms/step - loss: 0.0024 - mean_absolute_error: 0.0306 - val_loss: 0.0019 - val_mean_absolute_error: 0.0263\n",
            "Epoch 214/1000\n",
            "29/29 [==============================] - 1s 26ms/step - loss: 0.0020 - mean_absolute_error: 0.0308 - val_loss: 0.0043 - val_mean_absolute_error: 0.0368\n",
            "Epoch 215/1000\n",
            "29/29 [==============================] - 1s 26ms/step - loss: 0.0031 - mean_absolute_error: 0.0327 - val_loss: 0.0023 - val_mean_absolute_error: 0.0295\n",
            "Epoch 216/1000\n",
            "29/29 [==============================] - 1s 26ms/step - loss: 0.0021 - mean_absolute_error: 0.0305 - val_loss: 0.0024 - val_mean_absolute_error: 0.0293\n",
            "Epoch 217/1000\n",
            "29/29 [==============================] - 1s 26ms/step - loss: 0.0021 - mean_absolute_error: 0.0304 - val_loss: 0.0032 - val_mean_absolute_error: 0.0332\n",
            "Epoch 218/1000\n",
            "29/29 [==============================] - 1s 26ms/step - loss: 0.0024 - mean_absolute_error: 0.0313 - val_loss: 0.0031 - val_mean_absolute_error: 0.0316\n",
            "Epoch 219/1000\n",
            "29/29 [==============================] - 1s 26ms/step - loss: 0.0025 - mean_absolute_error: 0.0313 - val_loss: 0.0020 - val_mean_absolute_error: 0.0285\n",
            "Epoch 220/1000\n",
            "29/29 [==============================] - 1s 26ms/step - loss: 0.0021 - mean_absolute_error: 0.0304 - val_loss: 0.0023 - val_mean_absolute_error: 0.0306\n",
            "Epoch 221/1000\n",
            "29/29 [==============================] - 1s 30ms/step - loss: 0.0023 - mean_absolute_error: 0.0296 - val_loss: 0.0041 - val_mean_absolute_error: 0.0360\n",
            "Epoch 222/1000\n",
            "29/29 [==============================] - 1s 27ms/step - loss: 0.0043 - mean_absolute_error: 0.0361 - val_loss: 0.0032 - val_mean_absolute_error: 0.0316\n",
            "Epoch 223/1000\n",
            "29/29 [==============================] - 1s 30ms/step - loss: 0.0032 - mean_absolute_error: 0.0339 - val_loss: 0.0026 - val_mean_absolute_error: 0.0310\n",
            "Epoch 224/1000\n",
            "29/29 [==============================] - 1s 26ms/step - loss: 0.0027 - mean_absolute_error: 0.0331 - val_loss: 0.0025 - val_mean_absolute_error: 0.0309\n",
            "Epoch 225/1000\n",
            "29/29 [==============================] - 1s 27ms/step - loss: 0.0023 - mean_absolute_error: 0.0302 - val_loss: 0.0023 - val_mean_absolute_error: 0.0278\n",
            "Epoch 226/1000\n",
            "29/29 [==============================] - 1s 26ms/step - loss: 0.0024 - mean_absolute_error: 0.0310 - val_loss: 0.0034 - val_mean_absolute_error: 0.0334\n",
            "Epoch 227/1000\n",
            "29/29 [==============================] - 1s 26ms/step - loss: 0.0036 - mean_absolute_error: 0.0358 - val_loss: 0.0021 - val_mean_absolute_error: 0.0283\n",
            "Epoch 228/1000\n",
            "29/29 [==============================] - 1s 26ms/step - loss: 0.0024 - mean_absolute_error: 0.0320 - val_loss: 0.0022 - val_mean_absolute_error: 0.0291\n",
            "Epoch 229/1000\n",
            "29/29 [==============================] - 1s 25ms/step - loss: 0.0021 - mean_absolute_error: 0.0297 - val_loss: 0.0021 - val_mean_absolute_error: 0.0293\n",
            "Epoch 230/1000\n",
            "29/29 [==============================] - 1s 28ms/step - loss: 0.0020 - mean_absolute_error: 0.0311 - val_loss: 0.0036 - val_mean_absolute_error: 0.0336\n",
            "Epoch 231/1000\n",
            "29/29 [==============================] - 1s 28ms/step - loss: 0.0023 - mean_absolute_error: 0.0310 - val_loss: 0.0021 - val_mean_absolute_error: 0.0313\n",
            "Epoch 232/1000\n",
            "29/29 [==============================] - 1s 27ms/step - loss: 0.0021 - mean_absolute_error: 0.0315 - val_loss: 0.0026 - val_mean_absolute_error: 0.0321\n",
            "Epoch 233/1000\n",
            "29/29 [==============================] - 1s 26ms/step - loss: 0.0019 - mean_absolute_error: 0.0304 - val_loss: 0.0023 - val_mean_absolute_error: 0.0314\n",
            "Epoch 234/1000\n",
            "29/29 [==============================] - 1s 26ms/step - loss: 0.0019 - mean_absolute_error: 0.0293 - val_loss: 0.0045 - val_mean_absolute_error: 0.0367\n",
            "Epoch 235/1000\n",
            "29/29 [==============================] - 1s 27ms/step - loss: 0.0040 - mean_absolute_error: 0.0364 - val_loss: 0.0024 - val_mean_absolute_error: 0.0285\n",
            "Epoch 236/1000\n",
            "29/29 [==============================] - 1s 27ms/step - loss: 0.0023 - mean_absolute_error: 0.0322 - val_loss: 0.0022 - val_mean_absolute_error: 0.0288\n",
            "Epoch 237/1000\n",
            "29/29 [==============================] - 1s 27ms/step - loss: 0.0020 - mean_absolute_error: 0.0295 - val_loss: 0.0018 - val_mean_absolute_error: 0.0274\n",
            "Epoch 238/1000\n",
            "29/29 [==============================] - 1s 27ms/step - loss: 0.0021 - mean_absolute_error: 0.0305 - val_loss: 0.0028 - val_mean_absolute_error: 0.0330\n",
            "Epoch 239/1000\n",
            "29/29 [==============================] - 1s 26ms/step - loss: 0.0020 - mean_absolute_error: 0.0300 - val_loss: 0.0026 - val_mean_absolute_error: 0.0325\n",
            "Epoch 240/1000\n",
            "29/29 [==============================] - 1s 26ms/step - loss: 0.0021 - mean_absolute_error: 0.0311 - val_loss: 0.0032 - val_mean_absolute_error: 0.0329\n",
            "Epoch 241/1000\n",
            "29/29 [==============================] - 1s 30ms/step - loss: 0.0020 - mean_absolute_error: 0.0300 - val_loss: 0.0033 - val_mean_absolute_error: 0.0341\n",
            "Epoch 242/1000\n",
            "29/29 [==============================] - 1s 28ms/step - loss: 0.0022 - mean_absolute_error: 0.0304 - val_loss: 0.0037 - val_mean_absolute_error: 0.0348\n",
            "Epoch 243/1000\n",
            "29/29 [==============================] - 1s 27ms/step - loss: 0.0026 - mean_absolute_error: 0.0311 - val_loss: 0.0020 - val_mean_absolute_error: 0.0302\n",
            "Epoch 244/1000\n",
            "29/29 [==============================] - 1s 28ms/step - loss: 0.0020 - mean_absolute_error: 0.0310 - val_loss: 0.0021 - val_mean_absolute_error: 0.0285\n",
            "Epoch 245/1000\n",
            "29/29 [==============================] - 1s 31ms/step - loss: 0.0018 - mean_absolute_error: 0.0282 - val_loss: 0.0042 - val_mean_absolute_error: 0.0362\n",
            "Epoch 246/1000\n",
            "29/29 [==============================] - 1s 26ms/step - loss: 0.0036 - mean_absolute_error: 0.0351 - val_loss: 0.0020 - val_mean_absolute_error: 0.0288\n",
            "Epoch 247/1000\n",
            "29/29 [==============================] - 1s 27ms/step - loss: 0.0022 - mean_absolute_error: 0.0332 - val_loss: 0.0018 - val_mean_absolute_error: 0.0283\n",
            "Epoch 248/1000\n",
            "29/29 [==============================] - 1s 26ms/step - loss: 0.0019 - mean_absolute_error: 0.0294 - val_loss: 0.0026 - val_mean_absolute_error: 0.0302\n",
            "Epoch 249/1000\n",
            "29/29 [==============================] - 1s 27ms/step - loss: 0.0026 - mean_absolute_error: 0.0322 - val_loss: 0.0018 - val_mean_absolute_error: 0.0274\n",
            "Epoch 250/1000\n",
            "29/29 [==============================] - 1s 27ms/step - loss: 0.0017 - mean_absolute_error: 0.0293 - val_loss: 0.0040 - val_mean_absolute_error: 0.0344\n",
            "Epoch 251/1000\n",
            "29/29 [==============================] - 1s 27ms/step - loss: 0.0029 - mean_absolute_error: 0.0317 - val_loss: 0.0021 - val_mean_absolute_error: 0.0300\n",
            "Epoch 252/1000\n",
            "29/29 [==============================] - 1s 26ms/step - loss: 0.0021 - mean_absolute_error: 0.0302 - val_loss: 0.0018 - val_mean_absolute_error: 0.0274\n",
            "Epoch 253/1000\n",
            "29/29 [==============================] - 1s 27ms/step - loss: 0.0018 - mean_absolute_error: 0.0298 - val_loss: 0.0023 - val_mean_absolute_error: 0.0286\n",
            "Epoch 254/1000\n",
            "29/29 [==============================] - 1s 30ms/step - loss: 0.0020 - mean_absolute_error: 0.0314 - val_loss: 0.0017 - val_mean_absolute_error: 0.0290\n",
            "Epoch 255/1000\n",
            "29/29 [==============================] - 1s 29ms/step - loss: 0.0017 - mean_absolute_error: 0.0278 - val_loss: 0.0025 - val_mean_absolute_error: 0.0296\n",
            "Epoch 256/1000\n",
            "29/29 [==============================] - 1s 27ms/step - loss: 0.0021 - mean_absolute_error: 0.0309 - val_loss: 0.0021 - val_mean_absolute_error: 0.0318\n",
            "Epoch 257/1000\n",
            "29/29 [==============================] - 1s 27ms/step - loss: 0.0017 - mean_absolute_error: 0.0282 - val_loss: 0.0022 - val_mean_absolute_error: 0.0297\n",
            "Epoch 258/1000\n",
            "29/29 [==============================] - 1s 27ms/step - loss: 0.0017 - mean_absolute_error: 0.0286 - val_loss: 0.0018 - val_mean_absolute_error: 0.0289\n",
            "Epoch 259/1000\n",
            "29/29 [==============================] - 1s 28ms/step - loss: 0.0015 - mean_absolute_error: 0.0279 - val_loss: 0.0016 - val_mean_absolute_error: 0.0267\n",
            "Epoch 260/1000\n",
            "29/29 [==============================] - 1s 30ms/step - loss: 0.0017 - mean_absolute_error: 0.0285 - val_loss: 0.0033 - val_mean_absolute_error: 0.0337\n",
            "Epoch 261/1000\n",
            "29/29 [==============================] - 1s 28ms/step - loss: 0.0019 - mean_absolute_error: 0.0297 - val_loss: 0.0019 - val_mean_absolute_error: 0.0306\n",
            "Epoch 262/1000\n",
            "29/29 [==============================] - 1s 29ms/step - loss: 0.0015 - mean_absolute_error: 0.0266 - val_loss: 0.0036 - val_mean_absolute_error: 0.0327\n",
            "Epoch 263/1000\n",
            "29/29 [==============================] - 1s 29ms/step - loss: 0.0029 - mean_absolute_error: 0.0327 - val_loss: 0.0026 - val_mean_absolute_error: 0.0304\n",
            "Epoch 264/1000\n",
            "29/29 [==============================] - 1s 28ms/step - loss: 0.0026 - mean_absolute_error: 0.0323 - val_loss: 0.0023 - val_mean_absolute_error: 0.0313\n",
            "Epoch 265/1000\n",
            "29/29 [==============================] - 1s 29ms/step - loss: 0.0019 - mean_absolute_error: 0.0304 - val_loss: 0.0022 - val_mean_absolute_error: 0.0295\n",
            "Epoch 266/1000\n",
            "29/29 [==============================] - 1s 26ms/step - loss: 0.0016 - mean_absolute_error: 0.0273 - val_loss: 0.0019 - val_mean_absolute_error: 0.0294\n",
            "Epoch 267/1000\n",
            "29/29 [==============================] - 1s 27ms/step - loss: 0.0016 - mean_absolute_error: 0.0280 - val_loss: 0.0023 - val_mean_absolute_error: 0.0275\n",
            "Epoch 268/1000\n",
            "29/29 [==============================] - 1s 27ms/step - loss: 0.0021 - mean_absolute_error: 0.0301 - val_loss: 0.0025 - val_mean_absolute_error: 0.0324\n",
            "Epoch 269/1000\n",
            "29/29 [==============================] - 1s 27ms/step - loss: 0.0016 - mean_absolute_error: 0.0284 - val_loss: 0.0030 - val_mean_absolute_error: 0.0313\n",
            "Epoch 270/1000\n",
            "29/29 [==============================] - 1s 27ms/step - loss: 0.0021 - mean_absolute_error: 0.0288 - val_loss: 0.0023 - val_mean_absolute_error: 0.0306\n",
            "Epoch 271/1000\n",
            "29/29 [==============================] - 1s 27ms/step - loss: 0.0016 - mean_absolute_error: 0.0282 - val_loss: 0.0020 - val_mean_absolute_error: 0.0305\n",
            "Epoch 272/1000\n",
            "29/29 [==============================] - 1s 28ms/step - loss: 0.0014 - mean_absolute_error: 0.0268 - val_loss: 0.0025 - val_mean_absolute_error: 0.0315\n",
            "Epoch 273/1000\n",
            "29/29 [==============================] - 1s 27ms/step - loss: 0.0015 - mean_absolute_error: 0.0264 - val_loss: 0.0014 - val_mean_absolute_error: 0.0264\n",
            "Epoch 274/1000\n",
            "29/29 [==============================] - 1s 27ms/step - loss: 0.0017 - mean_absolute_error: 0.0276 - val_loss: 0.0039 - val_mean_absolute_error: 0.0332\n",
            "Epoch 275/1000\n",
            "29/29 [==============================] - 1s 30ms/step - loss: 0.0035 - mean_absolute_error: 0.0347 - val_loss: 0.0024 - val_mean_absolute_error: 0.0310\n",
            "Epoch 276/1000\n",
            "29/29 [==============================] - 1s 31ms/step - loss: 0.0021 - mean_absolute_error: 0.0306 - val_loss: 0.0019 - val_mean_absolute_error: 0.0288\n",
            "Epoch 277/1000\n",
            "29/29 [==============================] - 1s 31ms/step - loss: 0.0019 - mean_absolute_error: 0.0297 - val_loss: 0.0017 - val_mean_absolute_error: 0.0257\n",
            "Epoch 278/1000\n",
            "29/29 [==============================] - 1s 29ms/step - loss: 0.0021 - mean_absolute_error: 0.0293 - val_loss: 0.0017 - val_mean_absolute_error: 0.0272\n",
            "Epoch 279/1000\n",
            "29/29 [==============================] - 1s 29ms/step - loss: 0.0017 - mean_absolute_error: 0.0282 - val_loss: 0.0020 - val_mean_absolute_error: 0.0288\n",
            "Epoch 280/1000\n",
            "29/29 [==============================] - 1s 30ms/step - loss: 0.0020 - mean_absolute_error: 0.0296 - val_loss: 0.0019 - val_mean_absolute_error: 0.0266\n",
            "Epoch 281/1000\n",
            "29/29 [==============================] - 1s 28ms/step - loss: 0.0020 - mean_absolute_error: 0.0300 - val_loss: 0.0015 - val_mean_absolute_error: 0.0275\n",
            "Epoch 282/1000\n",
            "29/29 [==============================] - 1s 28ms/step - loss: 0.0015 - mean_absolute_error: 0.0282 - val_loss: 0.0013 - val_mean_absolute_error: 0.0260\n",
            "Epoch 283/1000\n",
            "29/29 [==============================] - 1s 27ms/step - loss: 0.0015 - mean_absolute_error: 0.0282 - val_loss: 0.0022 - val_mean_absolute_error: 0.0295\n",
            "Epoch 284/1000\n",
            "29/29 [==============================] - 1s 27ms/step - loss: 0.0014 - mean_absolute_error: 0.0262 - val_loss: 0.0012 - val_mean_absolute_error: 0.0252\n",
            "Epoch 285/1000\n",
            "29/29 [==============================] - 1s 26ms/step - loss: 0.0015 - mean_absolute_error: 0.0269 - val_loss: 0.0019 - val_mean_absolute_error: 0.0282\n",
            "Epoch 286/1000\n",
            "29/29 [==============================] - 1s 27ms/step - loss: 0.0014 - mean_absolute_error: 0.0260 - val_loss: 0.0013 - val_mean_absolute_error: 0.0252\n",
            "Epoch 287/1000\n",
            "29/29 [==============================] - 1s 28ms/step - loss: 0.0016 - mean_absolute_error: 0.0278 - val_loss: 0.0017 - val_mean_absolute_error: 0.0271\n",
            "Epoch 288/1000\n",
            "29/29 [==============================] - 1s 28ms/step - loss: 0.0014 - mean_absolute_error: 0.0265 - val_loss: 0.0013 - val_mean_absolute_error: 0.0263\n",
            "Epoch 289/1000\n",
            "29/29 [==============================] - 1s 28ms/step - loss: 0.0013 - mean_absolute_error: 0.0264 - val_loss: 0.0014 - val_mean_absolute_error: 0.0261\n",
            "Epoch 290/1000\n",
            "29/29 [==============================] - 1s 26ms/step - loss: 0.0014 - mean_absolute_error: 0.0260 - val_loss: 0.0011 - val_mean_absolute_error: 0.0239\n",
            "Epoch 291/1000\n",
            "29/29 [==============================] - 1s 31ms/step - loss: 0.0012 - mean_absolute_error: 0.0251 - val_loss: 0.0015 - val_mean_absolute_error: 0.0273\n",
            "Epoch 292/1000\n",
            "29/29 [==============================] - 1s 31ms/step - loss: 0.0012 - mean_absolute_error: 0.0253 - val_loss: 0.0012 - val_mean_absolute_error: 0.0251\n",
            "Epoch 293/1000\n",
            "29/29 [==============================] - 1s 29ms/step - loss: 0.0012 - mean_absolute_error: 0.0249 - val_loss: 0.0015 - val_mean_absolute_error: 0.0266\n",
            "Epoch 294/1000\n",
            "29/29 [==============================] - 1s 27ms/step - loss: 0.0014 - mean_absolute_error: 0.0262 - val_loss: 0.0013 - val_mean_absolute_error: 0.0255\n",
            "Epoch 295/1000\n",
            "29/29 [==============================] - 1s 28ms/step - loss: 0.0013 - mean_absolute_error: 0.0254 - val_loss: 0.0014 - val_mean_absolute_error: 0.0257\n",
            "Epoch 296/1000\n",
            "29/29 [==============================] - 1s 27ms/step - loss: 0.0011 - mean_absolute_error: 0.0250 - val_loss: 0.0013 - val_mean_absolute_error: 0.0252\n",
            "Epoch 297/1000\n",
            "29/29 [==============================] - 1s 27ms/step - loss: 0.0014 - mean_absolute_error: 0.0256 - val_loss: 0.0014 - val_mean_absolute_error: 0.0278\n",
            "Epoch 298/1000\n",
            "29/29 [==============================] - 1s 26ms/step - loss: 0.0012 - mean_absolute_error: 0.0261 - val_loss: 0.0012 - val_mean_absolute_error: 0.0242\n",
            "Epoch 299/1000\n",
            "29/29 [==============================] - 1s 27ms/step - loss: 0.0013 - mean_absolute_error: 0.0261 - val_loss: 0.0013 - val_mean_absolute_error: 0.0275\n",
            "Epoch 300/1000\n",
            "29/29 [==============================] - 1s 28ms/step - loss: 0.0011 - mean_absolute_error: 0.0248 - val_loss: 0.0012 - val_mean_absolute_error: 0.0236\n",
            "Epoch 301/1000\n",
            "29/29 [==============================] - 1s 31ms/step - loss: 0.0013 - mean_absolute_error: 0.0258 - val_loss: 0.0014 - val_mean_absolute_error: 0.0265\n",
            "Epoch 302/1000\n",
            "29/29 [==============================] - 1s 29ms/step - loss: 0.0010 - mean_absolute_error: 0.0234 - val_loss: 9.2591e-04 - val_mean_absolute_error: 0.0211\n",
            "Epoch 303/1000\n",
            "29/29 [==============================] - 1s 26ms/step - loss: 0.0015 - mean_absolute_error: 0.0267 - val_loss: 0.0027 - val_mean_absolute_error: 0.0305\n",
            "Epoch 304/1000\n",
            "29/29 [==============================] - 1s 27ms/step - loss: 0.0017 - mean_absolute_error: 0.0268 - val_loss: 0.0015 - val_mean_absolute_error: 0.0270\n",
            "Epoch 305/1000\n",
            "29/29 [==============================] - 1s 29ms/step - loss: 0.0011 - mean_absolute_error: 0.0245 - val_loss: 0.0011 - val_mean_absolute_error: 0.0241\n",
            "Epoch 306/1000\n",
            "29/29 [==============================] - 1s 27ms/step - loss: 0.0011 - mean_absolute_error: 0.0247 - val_loss: 0.0014 - val_mean_absolute_error: 0.0240\n",
            "Epoch 307/1000\n",
            "29/29 [==============================] - 1s 28ms/step - loss: 0.0015 - mean_absolute_error: 0.0263 - val_loss: 0.0013 - val_mean_absolute_error: 0.0260\n",
            "Epoch 308/1000\n",
            "29/29 [==============================] - 1s 30ms/step - loss: 0.0014 - mean_absolute_error: 0.0261 - val_loss: 0.0015 - val_mean_absolute_error: 0.0277\n",
            "Epoch 309/1000\n",
            "29/29 [==============================] - 1s 28ms/step - loss: 0.0014 - mean_absolute_error: 0.0269 - val_loss: 0.0013 - val_mean_absolute_error: 0.0257\n",
            "Epoch 310/1000\n",
            "29/29 [==============================] - 1s 28ms/step - loss: 0.0012 - mean_absolute_error: 0.0258 - val_loss: 0.0015 - val_mean_absolute_error: 0.0243\n",
            "Epoch 311/1000\n",
            "29/29 [==============================] - 1s 27ms/step - loss: 0.0013 - mean_absolute_error: 0.0257 - val_loss: 0.0033 - val_mean_absolute_error: 0.0347\n",
            "Epoch 312/1000\n",
            "29/29 [==============================] - 1s 27ms/step - loss: 0.0031 - mean_absolute_error: 0.0326 - val_loss: 0.0019 - val_mean_absolute_error: 0.0267\n",
            "Epoch 313/1000\n",
            "29/29 [==============================] - 1s 28ms/step - loss: 0.0021 - mean_absolute_error: 0.0290 - val_loss: 0.0015 - val_mean_absolute_error: 0.0254\n",
            "Epoch 314/1000\n",
            "29/29 [==============================] - 1s 27ms/step - loss: 0.0013 - mean_absolute_error: 0.0256 - val_loss: 0.0013 - val_mean_absolute_error: 0.0248\n",
            "Epoch 315/1000\n",
            "29/29 [==============================] - 1s 28ms/step - loss: 0.0018 - mean_absolute_error: 0.0270 - val_loss: 0.0039 - val_mean_absolute_error: 0.0346\n",
            "Epoch 316/1000\n",
            "29/29 [==============================] - 1s 32ms/step - loss: 0.0044 - mean_absolute_error: 0.0376 - val_loss: 0.0036 - val_mean_absolute_error: 0.0369\n",
            "Epoch 317/1000\n",
            "29/29 [==============================] - 1s 28ms/step - loss: 0.0029 - mean_absolute_error: 0.0342 - val_loss: 0.0024 - val_mean_absolute_error: 0.0334\n",
            "Epoch 318/1000\n",
            "29/29 [==============================] - 1s 29ms/step - loss: 0.0022 - mean_absolute_error: 0.0319 - val_loss: 0.0018 - val_mean_absolute_error: 0.0282\n",
            "Epoch 319/1000\n",
            "29/29 [==============================] - 1s 29ms/step - loss: 0.0021 - mean_absolute_error: 0.0302 - val_loss: 0.0027 - val_mean_absolute_error: 0.0329\n",
            "Epoch 320/1000\n",
            "29/29 [==============================] - 1s 29ms/step - loss: 0.0024 - mean_absolute_error: 0.0320 - val_loss: 0.0020 - val_mean_absolute_error: 0.0303\n",
            "Epoch 321/1000\n",
            "29/29 [==============================] - 1s 28ms/step - loss: 0.0019 - mean_absolute_error: 0.0300 - val_loss: 0.0015 - val_mean_absolute_error: 0.0272\n",
            "Epoch 322/1000\n",
            "29/29 [==============================] - 1s 27ms/step - loss: 0.0013 - mean_absolute_error: 0.0267 - val_loss: 0.0012 - val_mean_absolute_error: 0.0246\n",
            "Epoch 323/1000\n",
            "29/29 [==============================] - 1s 29ms/step - loss: 0.0013 - mean_absolute_error: 0.0252 - val_loss: 0.0012 - val_mean_absolute_error: 0.0246\n",
            "Epoch 324/1000\n",
            "29/29 [==============================] - 1s 29ms/step - loss: 9.9807e-04 - mean_absolute_error: 0.0235 - val_loss: 0.0013 - val_mean_absolute_error: 0.0245\n",
            "Epoch 325/1000\n",
            "29/29 [==============================] - 1s 30ms/step - loss: 0.0013 - mean_absolute_error: 0.0261 - val_loss: 0.0017 - val_mean_absolute_error: 0.0275\n",
            "Epoch 326/1000\n",
            "29/29 [==============================] - 1s 26ms/step - loss: 0.0013 - mean_absolute_error: 0.0249 - val_loss: 0.0012 - val_mean_absolute_error: 0.0248\n",
            "Epoch 327/1000\n",
            "29/29 [==============================] - 1s 28ms/step - loss: 0.0011 - mean_absolute_error: 0.0243 - val_loss: 0.0012 - val_mean_absolute_error: 0.0240\n",
            "Epoch 328/1000\n",
            "29/29 [==============================] - 1s 27ms/step - loss: 9.2098e-04 - mean_absolute_error: 0.0228 - val_loss: 0.0011 - val_mean_absolute_error: 0.0229\n",
            "Epoch 329/1000\n",
            "29/29 [==============================] - 1s 27ms/step - loss: 0.0011 - mean_absolute_error: 0.0241 - val_loss: 0.0011 - val_mean_absolute_error: 0.0235\n",
            "Epoch 330/1000\n",
            "29/29 [==============================] - 1s 27ms/step - loss: 9.1867e-04 - mean_absolute_error: 0.0230 - val_loss: 0.0012 - val_mean_absolute_error: 0.0227\n",
            "Epoch 331/1000\n",
            "29/29 [==============================] - 1s 28ms/step - loss: 9.8743e-04 - mean_absolute_error: 0.0232 - val_loss: 0.0012 - val_mean_absolute_error: 0.0252\n",
            "Epoch 332/1000\n",
            "29/29 [==============================] - 1s 27ms/step - loss: 9.2722e-04 - mean_absolute_error: 0.0223 - val_loss: 0.0013 - val_mean_absolute_error: 0.0223\n",
            "Epoch 333/1000\n",
            "29/29 [==============================] - 1s 27ms/step - loss: 0.0018 - mean_absolute_error: 0.0282 - val_loss: 0.0025 - val_mean_absolute_error: 0.0321\n",
            "Epoch 334/1000\n",
            "29/29 [==============================] - 1s 27ms/step - loss: 0.0019 - mean_absolute_error: 0.0275 - val_loss: 0.0025 - val_mean_absolute_error: 0.0353\n",
            "Epoch 335/1000\n",
            "29/29 [==============================] - 1s 27ms/step - loss: 0.0018 - mean_absolute_error: 0.0295 - val_loss: 0.0015 - val_mean_absolute_error: 0.0280\n",
            "Epoch 336/1000\n",
            "29/29 [==============================] - 1s 28ms/step - loss: 0.0016 - mean_absolute_error: 0.0282 - val_loss: 0.0015 - val_mean_absolute_error: 0.0267\n",
            "Epoch 337/1000\n",
            "29/29 [==============================] - 1s 27ms/step - loss: 0.0011 - mean_absolute_error: 0.0248 - val_loss: 0.0011 - val_mean_absolute_error: 0.0247\n",
            "Epoch 338/1000\n",
            "29/29 [==============================] - 1s 27ms/step - loss: 0.0011 - mean_absolute_error: 0.0238 - val_loss: 0.0012 - val_mean_absolute_error: 0.0235\n",
            "Epoch 339/1000\n",
            "29/29 [==============================] - 1s 27ms/step - loss: 0.0011 - mean_absolute_error: 0.0239 - val_loss: 0.0012 - val_mean_absolute_error: 0.0244\n",
            "Epoch 340/1000\n",
            "29/29 [==============================] - 1s 27ms/step - loss: 9.5693e-04 - mean_absolute_error: 0.0230 - val_loss: 0.0011 - val_mean_absolute_error: 0.0223\n",
            "Epoch 341/1000\n",
            "29/29 [==============================] - 1s 27ms/step - loss: 0.0010 - mean_absolute_error: 0.0238 - val_loss: 0.0013 - val_mean_absolute_error: 0.0246\n",
            "Epoch 342/1000\n",
            "29/29 [==============================] - 1s 28ms/step - loss: 0.0010 - mean_absolute_error: 0.0241 - val_loss: 0.0012 - val_mean_absolute_error: 0.0243\n",
            "Epoch 343/1000\n",
            "29/29 [==============================] - 1s 28ms/step - loss: 0.0011 - mean_absolute_error: 0.0236 - val_loss: 0.0018 - val_mean_absolute_error: 0.0239\n",
            "Epoch 344/1000\n",
            "29/29 [==============================] - 1s 28ms/step - loss: 0.0013 - mean_absolute_error: 0.0252 - val_loss: 0.0012 - val_mean_absolute_error: 0.0242\n",
            "Epoch 345/1000\n",
            "29/29 [==============================] - 1s 31ms/step - loss: 9.5744e-04 - mean_absolute_error: 0.0224 - val_loss: 0.0013 - val_mean_absolute_error: 0.0230\n",
            "Epoch 346/1000\n",
            "29/29 [==============================] - 1s 27ms/step - loss: 0.0010 - mean_absolute_error: 0.0231 - val_loss: 0.0011 - val_mean_absolute_error: 0.0234\n",
            "Epoch 347/1000\n",
            "29/29 [==============================] - 1s 28ms/step - loss: 0.0011 - mean_absolute_error: 0.0236 - val_loss: 0.0013 - val_mean_absolute_error: 0.0234\n",
            "Epoch 348/1000\n",
            "29/29 [==============================] - 1s 28ms/step - loss: 8.9137e-04 - mean_absolute_error: 0.0222 - val_loss: 0.0015 - val_mean_absolute_error: 0.0239\n",
            "Epoch 349/1000\n",
            "29/29 [==============================] - 1s 28ms/step - loss: 0.0010 - mean_absolute_error: 0.0231 - val_loss: 0.0015 - val_mean_absolute_error: 0.0237\n",
            "Epoch 350/1000\n",
            "29/29 [==============================] - 1s 28ms/step - loss: 0.0010 - mean_absolute_error: 0.0230 - val_loss: 0.0011 - val_mean_absolute_error: 0.0233\n",
            "Epoch 351/1000\n",
            "29/29 [==============================] - 1s 28ms/step - loss: 9.9125e-04 - mean_absolute_error: 0.0237 - val_loss: 0.0015 - val_mean_absolute_error: 0.0242\n",
            "Epoch 352/1000\n",
            "29/29 [==============================] - 1s 28ms/step - loss: 0.0010 - mean_absolute_error: 0.0235 - val_loss: 0.0014 - val_mean_absolute_error: 0.0261\n",
            "Epoch 353/1000\n",
            "29/29 [==============================] - 1s 28ms/step - loss: 0.0012 - mean_absolute_error: 0.0243 - val_loss: 0.0016 - val_mean_absolute_error: 0.0243\n",
            "Epoch 354/1000\n",
            "29/29 [==============================] - 1s 31ms/step - loss: 0.0013 - mean_absolute_error: 0.0250 - val_loss: 0.0014 - val_mean_absolute_error: 0.0263\n",
            "Epoch 355/1000\n",
            "29/29 [==============================] - 1s 31ms/step - loss: 0.0017 - mean_absolute_error: 0.0274 - val_loss: 0.0014 - val_mean_absolute_error: 0.0247\n",
            "Epoch 356/1000\n",
            "29/29 [==============================] - 1s 31ms/step - loss: 0.0010 - mean_absolute_error: 0.0232 - val_loss: 0.0013 - val_mean_absolute_error: 0.0225\n",
            "Epoch 357/1000\n",
            "29/29 [==============================] - 1s 27ms/step - loss: 0.0011 - mean_absolute_error: 0.0246 - val_loss: 0.0013 - val_mean_absolute_error: 0.0222\n",
            "Epoch 358/1000\n",
            "29/29 [==============================] - 1s 30ms/step - loss: 9.1994e-04 - mean_absolute_error: 0.0227 - val_loss: 0.0013 - val_mean_absolute_error: 0.0242\n",
            "Epoch 359/1000\n",
            "29/29 [==============================] - 1s 29ms/step - loss: 0.0010 - mean_absolute_error: 0.0236 - val_loss: 0.0010 - val_mean_absolute_error: 0.0230\n",
            "Epoch 360/1000\n",
            "29/29 [==============================] - 1s 27ms/step - loss: 8.5444e-04 - mean_absolute_error: 0.0218 - val_loss: 0.0011 - val_mean_absolute_error: 0.0219\n",
            "Epoch 361/1000\n",
            "29/29 [==============================] - 1s 27ms/step - loss: 0.0010 - mean_absolute_error: 0.0237 - val_loss: 0.0011 - val_mean_absolute_error: 0.0220\n",
            "Epoch 362/1000\n",
            "29/29 [==============================] - 1s 31ms/step - loss: 9.0036e-04 - mean_absolute_error: 0.0214 - val_loss: 0.0012 - val_mean_absolute_error: 0.0232\n",
            "Epoch 363/1000\n",
            "29/29 [==============================] - 1s 28ms/step - loss: 0.0010 - mean_absolute_error: 0.0235 - val_loss: 0.0014 - val_mean_absolute_error: 0.0231\n",
            "Epoch 364/1000\n",
            "29/29 [==============================] - 1s 27ms/step - loss: 9.9187e-04 - mean_absolute_error: 0.0228 - val_loss: 0.0019 - val_mean_absolute_error: 0.0293\n",
            "Epoch 365/1000\n",
            "29/29 [==============================] - 1s 29ms/step - loss: 0.0012 - mean_absolute_error: 0.0258 - val_loss: 0.0013 - val_mean_absolute_error: 0.0254\n",
            "Epoch 366/1000\n",
            "29/29 [==============================] - 1s 27ms/step - loss: 0.0011 - mean_absolute_error: 0.0235 - val_loss: 0.0019 - val_mean_absolute_error: 0.0244\n",
            "Epoch 367/1000\n",
            "29/29 [==============================] - 1s 28ms/step - loss: 0.0012 - mean_absolute_error: 0.0243 - val_loss: 0.0012 - val_mean_absolute_error: 0.0253\n",
            "Epoch 368/1000\n",
            "29/29 [==============================] - 1s 27ms/step - loss: 0.0010 - mean_absolute_error: 0.0232 - val_loss: 0.0019 - val_mean_absolute_error: 0.0252\n",
            "Epoch 369/1000\n",
            "29/29 [==============================] - 1s 29ms/step - loss: 0.0011 - mean_absolute_error: 0.0233 - val_loss: 0.0019 - val_mean_absolute_error: 0.0237\n",
            "Epoch 370/1000\n",
            "29/29 [==============================] - 1s 27ms/step - loss: 9.4193e-04 - mean_absolute_error: 0.0221 - val_loss: 0.0012 - val_mean_absolute_error: 0.0240\n",
            "Epoch 371/1000\n",
            "29/29 [==============================] - 1s 27ms/step - loss: 0.0010 - mean_absolute_error: 0.0229 - val_loss: 0.0015 - val_mean_absolute_error: 0.0237\n",
            "Epoch 372/1000\n",
            "29/29 [==============================] - 1s 29ms/step - loss: 0.0010 - mean_absolute_error: 0.0237 - val_loss: 0.0013 - val_mean_absolute_error: 0.0231\n",
            "Epoch 373/1000\n",
            "29/29 [==============================] - 1s 27ms/step - loss: 9.2149e-04 - mean_absolute_error: 0.0225 - val_loss: 0.0011 - val_mean_absolute_error: 0.0215\n",
            "Epoch 374/1000\n",
            "29/29 [==============================] - 1s 28ms/step - loss: 0.0010 - mean_absolute_error: 0.0231 - val_loss: 0.0012 - val_mean_absolute_error: 0.0221\n",
            "Epoch 375/1000\n",
            "29/29 [==============================] - 1s 28ms/step - loss: 9.5007e-04 - mean_absolute_error: 0.0220 - val_loss: 0.0010 - val_mean_absolute_error: 0.0219\n",
            "Epoch 376/1000\n",
            "29/29 [==============================] - 1s 29ms/step - loss: 8.6971e-04 - mean_absolute_error: 0.0212 - val_loss: 0.0011 - val_mean_absolute_error: 0.0215\n",
            "Epoch 377/1000\n",
            "29/29 [==============================] - 1s 29ms/step - loss: 0.0010 - mean_absolute_error: 0.0224 - val_loss: 9.1563e-04 - val_mean_absolute_error: 0.0211\n",
            "Epoch 378/1000\n",
            "29/29 [==============================] - 1s 28ms/step - loss: 8.9373e-04 - mean_absolute_error: 0.0217 - val_loss: 0.0011 - val_mean_absolute_error: 0.0219\n",
            "Epoch 379/1000\n",
            "29/29 [==============================] - 1s 31ms/step - loss: 8.7029e-04 - mean_absolute_error: 0.0216 - val_loss: 0.0014 - val_mean_absolute_error: 0.0257\n",
            "Epoch 380/1000\n",
            "29/29 [==============================] - 1s 29ms/step - loss: 0.0011 - mean_absolute_error: 0.0235 - val_loss: 9.6061e-04 - val_mean_absolute_error: 0.0209\n",
            "Epoch 381/1000\n",
            "29/29 [==============================] - 1s 31ms/step - loss: 8.6373e-04 - mean_absolute_error: 0.0222 - val_loss: 0.0011 - val_mean_absolute_error: 0.0208\n",
            "Epoch 382/1000\n",
            "29/29 [==============================] - 1s 29ms/step - loss: 8.6873e-04 - mean_absolute_error: 0.0214 - val_loss: 0.0011 - val_mean_absolute_error: 0.0225\n",
            "Epoch 383/1000\n",
            "29/29 [==============================] - 1s 28ms/step - loss: 8.6852e-04 - mean_absolute_error: 0.0219 - val_loss: 0.0010 - val_mean_absolute_error: 0.0222\n",
            "Epoch 384/1000\n",
            "29/29 [==============================] - 1s 28ms/step - loss: 7.7116e-04 - mean_absolute_error: 0.0209 - val_loss: 9.9881e-04 - val_mean_absolute_error: 0.0211\n",
            "Epoch 385/1000\n",
            "29/29 [==============================] - 1s 29ms/step - loss: 8.7942e-04 - mean_absolute_error: 0.0220 - val_loss: 0.0014 - val_mean_absolute_error: 0.0220\n",
            "Epoch 386/1000\n",
            "29/29 [==============================] - 1s 27ms/step - loss: 8.6523e-04 - mean_absolute_error: 0.0210 - val_loss: 0.0011 - val_mean_absolute_error: 0.0222\n",
            "Epoch 387/1000\n",
            "29/29 [==============================] - 1s 28ms/step - loss: 9.2453e-04 - mean_absolute_error: 0.0221 - val_loss: 0.0010 - val_mean_absolute_error: 0.0222\n",
            "Epoch 388/1000\n",
            "29/29 [==============================] - 1s 28ms/step - loss: 8.8017e-04 - mean_absolute_error: 0.0218 - val_loss: 9.6388e-04 - val_mean_absolute_error: 0.0210\n",
            "Epoch 389/1000\n",
            "29/29 [==============================] - 1s 28ms/step - loss: 8.1948e-04 - mean_absolute_error: 0.0213 - val_loss: 0.0011 - val_mean_absolute_error: 0.0229\n",
            "Epoch 390/1000\n",
            "29/29 [==============================] - 1s 29ms/step - loss: 8.3734e-04 - mean_absolute_error: 0.0215 - val_loss: 0.0011 - val_mean_absolute_error: 0.0223\n",
            "Epoch 391/1000\n",
            "29/29 [==============================] - 1s 29ms/step - loss: 8.7328e-04 - mean_absolute_error: 0.0221 - val_loss: 0.0011 - val_mean_absolute_error: 0.0219\n",
            "Epoch 392/1000\n",
            "29/29 [==============================] - 1s 28ms/step - loss: 7.9925e-04 - mean_absolute_error: 0.0209 - val_loss: 0.0011 - val_mean_absolute_error: 0.0212\n",
            "Epoch 393/1000\n",
            "29/29 [==============================] - 1s 28ms/step - loss: 8.4971e-04 - mean_absolute_error: 0.0216 - val_loss: 0.0012 - val_mean_absolute_error: 0.0223\n",
            "Epoch 394/1000\n",
            "29/29 [==============================] - 1s 27ms/step - loss: 8.8222e-04 - mean_absolute_error: 0.0217 - val_loss: 0.0011 - val_mean_absolute_error: 0.0235\n",
            "Epoch 395/1000\n",
            "29/29 [==============================] - 1s 28ms/step - loss: 9.4020e-04 - mean_absolute_error: 0.0222 - val_loss: 9.3493e-04 - val_mean_absolute_error: 0.0209\n",
            "Epoch 396/1000\n",
            "29/29 [==============================] - 1s 28ms/step - loss: 8.4682e-04 - mean_absolute_error: 0.0213 - val_loss: 9.8942e-04 - val_mean_absolute_error: 0.0229\n",
            "Epoch 397/1000\n",
            "29/29 [==============================] - 1s 29ms/step - loss: 9.0534e-04 - mean_absolute_error: 0.0220 - val_loss: 0.0010 - val_mean_absolute_error: 0.0215\n",
            "Epoch 398/1000\n",
            "29/29 [==============================] - 1s 28ms/step - loss: 9.8008e-04 - mean_absolute_error: 0.0223 - val_loss: 0.0022 - val_mean_absolute_error: 0.0245\n",
            "Epoch 399/1000\n",
            "29/29 [==============================] - 1s 28ms/step - loss: 9.9600e-04 - mean_absolute_error: 0.0229 - val_loss: 0.0013 - val_mean_absolute_error: 0.0246\n",
            "Epoch 400/1000\n",
            "29/29 [==============================] - 1s 27ms/step - loss: 8.9926e-04 - mean_absolute_error: 0.0221 - val_loss: 9.9983e-04 - val_mean_absolute_error: 0.0214\n",
            "Epoch 401/1000\n",
            "29/29 [==============================] - 1s 31ms/step - loss: 8.4640e-04 - mean_absolute_error: 0.0212 - val_loss: 9.7650e-04 - val_mean_absolute_error: 0.0219\n",
            "Epoch 402/1000\n",
            "29/29 [==============================] - 1s 28ms/step - loss: 9.5860e-04 - mean_absolute_error: 0.0217 - val_loss: 0.0011 - val_mean_absolute_error: 0.0232\n",
            "Epoch 403/1000\n",
            "29/29 [==============================] - 1s 29ms/step - loss: 8.4615e-04 - mean_absolute_error: 0.0215 - val_loss: 0.0011 - val_mean_absolute_error: 0.0220\n",
            "Epoch 404/1000\n",
            "29/29 [==============================] - 1s 29ms/step - loss: 9.2789e-04 - mean_absolute_error: 0.0224 - val_loss: 0.0014 - val_mean_absolute_error: 0.0237\n",
            "Epoch 405/1000\n",
            "29/29 [==============================] - 1s 28ms/step - loss: 8.4297e-04 - mean_absolute_error: 0.0218 - val_loss: 0.0010 - val_mean_absolute_error: 0.0221\n",
            "Epoch 406/1000\n",
            "29/29 [==============================] - 1s 30ms/step - loss: 8.1879e-04 - mean_absolute_error: 0.0208 - val_loss: 8.5766e-04 - val_mean_absolute_error: 0.0202\n",
            "Epoch 407/1000\n",
            "29/29 [==============================] - 1s 29ms/step - loss: 8.4162e-04 - mean_absolute_error: 0.0214 - val_loss: 0.0011 - val_mean_absolute_error: 0.0232\n",
            "Epoch 408/1000\n",
            "29/29 [==============================] - 1s 28ms/step - loss: 7.9706e-04 - mean_absolute_error: 0.0211 - val_loss: 8.7368e-04 - val_mean_absolute_error: 0.0208\n",
            "Epoch 409/1000\n",
            "29/29 [==============================] - 1s 28ms/step - loss: 7.2121e-04 - mean_absolute_error: 0.0203 - val_loss: 8.6603e-04 - val_mean_absolute_error: 0.0206\n",
            "Epoch 410/1000\n",
            "29/29 [==============================] - 1s 27ms/step - loss: 8.7650e-04 - mean_absolute_error: 0.0217 - val_loss: 8.9979e-04 - val_mean_absolute_error: 0.0209\n",
            "Epoch 411/1000\n",
            "29/29 [==============================] - 1s 29ms/step - loss: 7.5538e-04 - mean_absolute_error: 0.0202 - val_loss: 8.4410e-04 - val_mean_absolute_error: 0.0200\n",
            "Epoch 412/1000\n",
            "29/29 [==============================] - 1s 28ms/step - loss: 7.8117e-04 - mean_absolute_error: 0.0209 - val_loss: 0.0011 - val_mean_absolute_error: 0.0224\n",
            "Epoch 413/1000\n",
            "29/29 [==============================] - 1s 32ms/step - loss: 8.3490e-04 - mean_absolute_error: 0.0208 - val_loss: 9.8742e-04 - val_mean_absolute_error: 0.0214\n",
            "Epoch 414/1000\n",
            "29/29 [==============================] - 1s 29ms/step - loss: 8.5493e-04 - mean_absolute_error: 0.0211 - val_loss: 0.0011 - val_mean_absolute_error: 0.0214\n",
            "Epoch 415/1000\n",
            "29/29 [==============================] - 1s 28ms/step - loss: 7.8112e-04 - mean_absolute_error: 0.0207 - val_loss: 0.0011 - val_mean_absolute_error: 0.0228\n",
            "Epoch 416/1000\n",
            "29/29 [==============================] - 1s 28ms/step - loss: 9.4714e-04 - mean_absolute_error: 0.0219 - val_loss: 9.0050e-04 - val_mean_absolute_error: 0.0205\n",
            "Epoch 417/1000\n",
            "29/29 [==============================] - 1s 28ms/step - loss: 7.9148e-04 - mean_absolute_error: 0.0206 - val_loss: 8.4921e-04 - val_mean_absolute_error: 0.0207\n",
            "Epoch 418/1000\n",
            "29/29 [==============================] - 1s 28ms/step - loss: 9.9478e-04 - mean_absolute_error: 0.0228 - val_loss: 0.0012 - val_mean_absolute_error: 0.0225\n",
            "Epoch 419/1000\n",
            "29/29 [==============================] - 1s 32ms/step - loss: 8.8233e-04 - mean_absolute_error: 0.0215 - val_loss: 9.0464e-04 - val_mean_absolute_error: 0.0209\n",
            "Epoch 420/1000\n",
            "29/29 [==============================] - 1s 29ms/step - loss: 0.0010 - mean_absolute_error: 0.0229 - val_loss: 0.0018 - val_mean_absolute_error: 0.0254\n",
            "Epoch 421/1000\n",
            "29/29 [==============================] - 1s 29ms/step - loss: 9.8382e-04 - mean_absolute_error: 0.0226 - val_loss: 0.0013 - val_mean_absolute_error: 0.0220\n",
            "Epoch 422/1000\n",
            "29/29 [==============================] - 1s 29ms/step - loss: 8.2128e-04 - mean_absolute_error: 0.0217 - val_loss: 9.2815e-04 - val_mean_absolute_error: 0.0208\n",
            "Epoch 423/1000\n",
            "29/29 [==============================] - 1s 28ms/step - loss: 7.9528e-04 - mean_absolute_error: 0.0209 - val_loss: 0.0011 - val_mean_absolute_error: 0.0214\n",
            "Epoch 424/1000\n",
            "29/29 [==============================] - 1s 29ms/step - loss: 8.9394e-04 - mean_absolute_error: 0.0214 - val_loss: 9.9717e-04 - val_mean_absolute_error: 0.0211\n",
            "Epoch 425/1000\n",
            "29/29 [==============================] - 1s 27ms/step - loss: 7.6675e-04 - mean_absolute_error: 0.0209 - val_loss: 9.9133e-04 - val_mean_absolute_error: 0.0216\n",
            "Epoch 426/1000\n",
            "29/29 [==============================] - 1s 29ms/step - loss: 7.8345e-04 - mean_absolute_error: 0.0205 - val_loss: 8.8445e-04 - val_mean_absolute_error: 0.0205\n",
            "Epoch 427/1000\n",
            "29/29 [==============================] - 1s 28ms/step - loss: 8.1273e-04 - mean_absolute_error: 0.0208 - val_loss: 8.4327e-04 - val_mean_absolute_error: 0.0206\n",
            "Epoch 428/1000\n",
            "29/29 [==============================] - 1s 29ms/step - loss: 7.2708e-04 - mean_absolute_error: 0.0200 - val_loss: 8.4268e-04 - val_mean_absolute_error: 0.0204\n",
            "Epoch 429/1000\n",
            "29/29 [==============================] - 1s 28ms/step - loss: 7.6028e-04 - mean_absolute_error: 0.0203 - val_loss: 0.0012 - val_mean_absolute_error: 0.0235\n",
            "Epoch 430/1000\n",
            "29/29 [==============================] - 1s 28ms/step - loss: 0.0033 - mean_absolute_error: 0.0348 - val_loss: 0.0034 - val_mean_absolute_error: 0.0409\n",
            "Epoch 431/1000\n",
            "29/29 [==============================] - 1s 28ms/step - loss: 0.0021 - mean_absolute_error: 0.0301 - val_loss: 0.0034 - val_mean_absolute_error: 0.0338\n",
            "Epoch 432/1000\n",
            "29/29 [==============================] - 1s 30ms/step - loss: 0.0020 - mean_absolute_error: 0.0307 - val_loss: 0.0014 - val_mean_absolute_error: 0.0276\n",
            "Epoch 433/1000\n",
            "29/29 [==============================] - 1s 30ms/step - loss: 0.0020 - mean_absolute_error: 0.0289 - val_loss: 0.0024 - val_mean_absolute_error: 0.0368\n",
            "Epoch 434/1000\n",
            "29/29 [==============================] - 1s 29ms/step - loss: 0.0014 - mean_absolute_error: 0.0267 - val_loss: 0.0012 - val_mean_absolute_error: 0.0243\n",
            "Epoch 435/1000\n",
            "29/29 [==============================] - 1s 29ms/step - loss: 9.5148e-04 - mean_absolute_error: 0.0227 - val_loss: 0.0013 - val_mean_absolute_error: 0.0231\n",
            "Epoch 436/1000\n",
            "29/29 [==============================] - 1s 28ms/step - loss: 9.1483e-04 - mean_absolute_error: 0.0218 - val_loss: 0.0012 - val_mean_absolute_error: 0.0235\n",
            "Epoch 437/1000\n",
            "29/29 [==============================] - 1s 27ms/step - loss: 8.9459e-04 - mean_absolute_error: 0.0220 - val_loss: 0.0010 - val_mean_absolute_error: 0.0222\n",
            "Epoch 438/1000\n",
            "29/29 [==============================] - 1s 28ms/step - loss: 9.0658e-04 - mean_absolute_error: 0.0215 - val_loss: 0.0011 - val_mean_absolute_error: 0.0221\n",
            "Epoch 439/1000\n",
            "29/29 [==============================] - 1s 27ms/step - loss: 9.0113e-04 - mean_absolute_error: 0.0215 - val_loss: 0.0015 - val_mean_absolute_error: 0.0241\n",
            "Epoch 440/1000\n",
            "29/29 [==============================] - 1s 28ms/step - loss: 8.2722e-04 - mean_absolute_error: 0.0212 - val_loss: 0.0013 - val_mean_absolute_error: 0.0240\n",
            "Epoch 441/1000\n",
            "29/29 [==============================] - 1s 27ms/step - loss: 8.7883e-04 - mean_absolute_error: 0.0218 - val_loss: 0.0011 - val_mean_absolute_error: 0.0223\n",
            "Epoch 442/1000\n",
            "29/29 [==============================] - 1s 29ms/step - loss: 9.0704e-04 - mean_absolute_error: 0.0222 - val_loss: 0.0011 - val_mean_absolute_error: 0.0236\n",
            "Epoch 443/1000\n",
            "29/29 [==============================] - 1s 28ms/step - loss: 8.8439e-04 - mean_absolute_error: 0.0214 - val_loss: 0.0011 - val_mean_absolute_error: 0.0217\n",
            "Epoch 444/1000\n",
            "29/29 [==============================] - 1s 29ms/step - loss: 8.4250e-04 - mean_absolute_error: 0.0211 - val_loss: 0.0010 - val_mean_absolute_error: 0.0219\n",
            "Epoch 445/1000\n",
            "29/29 [==============================] - 1s 29ms/step - loss: 8.1108e-04 - mean_absolute_error: 0.0208 - val_loss: 0.0012 - val_mean_absolute_error: 0.0243\n",
            "Epoch 446/1000\n",
            "29/29 [==============================] - 1s 29ms/step - loss: 8.3703e-04 - mean_absolute_error: 0.0213 - val_loss: 0.0011 - val_mean_absolute_error: 0.0220\n",
            "Epoch 447/1000\n",
            "29/29 [==============================] - 1s 28ms/step - loss: 8.0404e-04 - mean_absolute_error: 0.0209 - val_loss: 0.0011 - val_mean_absolute_error: 0.0220\n",
            "Epoch 448/1000\n",
            "29/29 [==============================] - 1s 28ms/step - loss: 8.2170e-04 - mean_absolute_error: 0.0216 - val_loss: 0.0010 - val_mean_absolute_error: 0.0214\n",
            "Epoch 449/1000\n",
            "29/29 [==============================] - 1s 29ms/step - loss: 8.3331e-04 - mean_absolute_error: 0.0216 - val_loss: 0.0012 - val_mean_absolute_error: 0.0233\n",
            "Epoch 450/1000\n",
            "29/29 [==============================] - 1s 29ms/step - loss: 7.5380e-04 - mean_absolute_error: 0.0203 - val_loss: 9.6011e-04 - val_mean_absolute_error: 0.0215\n",
            "Epoch 451/1000\n",
            "29/29 [==============================] - 1s 29ms/step - loss: 8.0083e-04 - mean_absolute_error: 0.0205 - val_loss: 9.2207e-04 - val_mean_absolute_error: 0.0211\n",
            "Epoch 452/1000\n",
            "29/29 [==============================] - 1s 31ms/step - loss: 7.6105e-04 - mean_absolute_error: 0.0203 - val_loss: 9.3579e-04 - val_mean_absolute_error: 0.0210\n",
            "Epoch 453/1000\n",
            "29/29 [==============================] - 1s 28ms/step - loss: 8.1686e-04 - mean_absolute_error: 0.0206 - val_loss: 9.7533e-04 - val_mean_absolute_error: 0.0213\n",
            "Epoch 454/1000\n",
            "29/29 [==============================] - 1s 28ms/step - loss: 7.1869e-04 - mean_absolute_error: 0.0197 - val_loss: 0.0010 - val_mean_absolute_error: 0.0213\n",
            "Epoch 455/1000\n",
            "29/29 [==============================] - 1s 29ms/step - loss: 7.1704e-04 - mean_absolute_error: 0.0201 - val_loss: 9.6164e-04 - val_mean_absolute_error: 0.0208\n",
            "Epoch 456/1000\n",
            "29/29 [==============================] - 1s 30ms/step - loss: 7.0562e-04 - mean_absolute_error: 0.0192 - val_loss: 8.6665e-04 - val_mean_absolute_error: 0.0205\n",
            "Epoch 457/1000\n",
            "29/29 [==============================] - 1s 28ms/step - loss: 8.0274e-04 - mean_absolute_error: 0.0207 - val_loss: 0.0010 - val_mean_absolute_error: 0.0218\n",
            "Epoch 458/1000\n",
            "29/29 [==============================] - 1s 29ms/step - loss: 7.7196e-04 - mean_absolute_error: 0.0206 - val_loss: 8.6532e-04 - val_mean_absolute_error: 0.0200\n",
            "Epoch 459/1000\n",
            "29/29 [==============================] - 1s 28ms/step - loss: 7.6876e-04 - mean_absolute_error: 0.0200 - val_loss: 8.8508e-04 - val_mean_absolute_error: 0.0206\n",
            "Epoch 460/1000\n",
            "29/29 [==============================] - 1s 27ms/step - loss: 8.6621e-04 - mean_absolute_error: 0.0214 - val_loss: 9.2551e-04 - val_mean_absolute_error: 0.0208\n",
            "Epoch 461/1000\n",
            "29/29 [==============================] - 1s 32ms/step - loss: 9.0901e-04 - mean_absolute_error: 0.0218 - val_loss: 0.0010 - val_mean_absolute_error: 0.0219\n",
            "Epoch 462/1000\n",
            "29/29 [==============================] - 1s 29ms/step - loss: 9.5468e-04 - mean_absolute_error: 0.0227 - val_loss: 9.4805e-04 - val_mean_absolute_error: 0.0212\n",
            "Epoch 463/1000\n",
            "29/29 [==============================] - 1s 27ms/step - loss: 7.4369e-04 - mean_absolute_error: 0.0203 - val_loss: 0.0010 - val_mean_absolute_error: 0.0217\n",
            "Epoch 464/1000\n",
            "29/29 [==============================] - 1s 29ms/step - loss: 8.0629e-04 - mean_absolute_error: 0.0205 - val_loss: 9.8668e-04 - val_mean_absolute_error: 0.0227\n",
            "Epoch 465/1000\n",
            "29/29 [==============================] - 1s 28ms/step - loss: 8.6626e-04 - mean_absolute_error: 0.0213 - val_loss: 9.6331e-04 - val_mean_absolute_error: 0.0221\n",
            "Epoch 466/1000\n",
            "29/29 [==============================] - 1s 29ms/step - loss: 8.9980e-04 - mean_absolute_error: 0.0220 - val_loss: 0.0011 - val_mean_absolute_error: 0.0216\n",
            "Epoch 467/1000\n",
            "29/29 [==============================] - 1s 28ms/step - loss: 9.0472e-04 - mean_absolute_error: 0.0222 - val_loss: 0.0012 - val_mean_absolute_error: 0.0247\n",
            "Epoch 468/1000\n",
            "29/29 [==============================] - 1s 28ms/step - loss: 7.8558e-04 - mean_absolute_error: 0.0210 - val_loss: 9.9980e-04 - val_mean_absolute_error: 0.0212\n",
            "Epoch 469/1000\n",
            "29/29 [==============================] - 1s 28ms/step - loss: 7.3506e-04 - mean_absolute_error: 0.0203 - val_loss: 8.3753e-04 - val_mean_absolute_error: 0.0198\n",
            "Epoch 470/1000\n",
            "29/29 [==============================] - 1s 28ms/step - loss: 7.6270e-04 - mean_absolute_error: 0.0205 - val_loss: 0.0011 - val_mean_absolute_error: 0.0226\n",
            "Epoch 471/1000\n",
            "29/29 [==============================] - 1s 28ms/step - loss: 8.5511e-04 - mean_absolute_error: 0.0214 - val_loss: 0.0010 - val_mean_absolute_error: 0.0223\n",
            "Epoch 472/1000\n",
            "29/29 [==============================] - 1s 28ms/step - loss: 7.9951e-04 - mean_absolute_error: 0.0214 - val_loss: 8.8428e-04 - val_mean_absolute_error: 0.0205\n",
            "Epoch 473/1000\n",
            "29/29 [==============================] - 1s 28ms/step - loss: 7.5244e-04 - mean_absolute_error: 0.0206 - val_loss: 9.4683e-04 - val_mean_absolute_error: 0.0211\n",
            "Epoch 474/1000\n",
            "29/29 [==============================] - 1s 28ms/step - loss: 7.5975e-04 - mean_absolute_error: 0.0205 - val_loss: 9.5952e-04 - val_mean_absolute_error: 0.0211\n",
            "Epoch 475/1000\n",
            "29/29 [==============================] - 1s 29ms/step - loss: 7.8639e-04 - mean_absolute_error: 0.0212 - val_loss: 9.9029e-04 - val_mean_absolute_error: 0.0216\n",
            "Epoch 476/1000\n",
            "29/29 [==============================] - 1s 28ms/step - loss: 7.6650e-04 - mean_absolute_error: 0.0201 - val_loss: 0.0010 - val_mean_absolute_error: 0.0227\n",
            "Epoch 477/1000\n",
            "29/29 [==============================] - 1s 28ms/step - loss: 9.1575e-04 - mean_absolute_error: 0.0217 - val_loss: 0.0010 - val_mean_absolute_error: 0.0215\n",
            "Epoch 478/1000\n",
            "29/29 [==============================] - 1s 29ms/step - loss: 7.6295e-04 - mean_absolute_error: 0.0202 - val_loss: 9.6830e-04 - val_mean_absolute_error: 0.0206\n",
            "Epoch 479/1000\n",
            "29/29 [==============================] - 1s 27ms/step - loss: 8.2319e-04 - mean_absolute_error: 0.0207 - val_loss: 9.8594e-04 - val_mean_absolute_error: 0.0209\n",
            "Epoch 480/1000\n",
            "29/29 [==============================] - 1s 29ms/step - loss: 9.2066e-04 - mean_absolute_error: 0.0214 - val_loss: 0.0012 - val_mean_absolute_error: 0.0243\n",
            "Epoch 481/1000\n",
            "29/29 [==============================] - 1s 31ms/step - loss: 9.5194e-04 - mean_absolute_error: 0.0222 - val_loss: 0.0011 - val_mean_absolute_error: 0.0223\n",
            "Epoch 482/1000\n",
            "29/29 [==============================] - 1s 31ms/step - loss: 7.6936e-04 - mean_absolute_error: 0.0201 - val_loss: 9.3411e-04 - val_mean_absolute_error: 0.0210\n",
            "Epoch 483/1000\n",
            "29/29 [==============================] - 1s 31ms/step - loss: 8.3625e-04 - mean_absolute_error: 0.0210 - val_loss: 0.0011 - val_mean_absolute_error: 0.0242\n",
            "Epoch 484/1000\n",
            "29/29 [==============================] - 1s 31ms/step - loss: 8.5491e-04 - mean_absolute_error: 0.0209 - val_loss: 9.8410e-04 - val_mean_absolute_error: 0.0221\n",
            "Epoch 485/1000\n",
            "29/29 [==============================] - 1s 30ms/step - loss: 8.4688e-04 - mean_absolute_error: 0.0212 - val_loss: 0.0011 - val_mean_absolute_error: 0.0211\n",
            "Epoch 486/1000\n",
            "29/29 [==============================] - 1s 30ms/step - loss: 8.0577e-04 - mean_absolute_error: 0.0209 - val_loss: 0.0011 - val_mean_absolute_error: 0.0224\n",
            "Epoch 487/1000\n",
            "29/29 [==============================] - 1s 30ms/step - loss: 8.6771e-04 - mean_absolute_error: 0.0207 - val_loss: 9.2274e-04 - val_mean_absolute_error: 0.0205\n",
            "Epoch 488/1000\n",
            "29/29 [==============================] - 1s 32ms/step - loss: 7.3555e-04 - mean_absolute_error: 0.0200 - val_loss: 8.8982e-04 - val_mean_absolute_error: 0.0208\n",
            "Epoch 489/1000\n",
            "29/29 [==============================] - 1s 31ms/step - loss: 7.3812e-04 - mean_absolute_error: 0.0202 - val_loss: 9.1071e-04 - val_mean_absolute_error: 0.0212\n",
            "Epoch 490/1000\n",
            "29/29 [==============================] - 1s 30ms/step - loss: 8.9120e-04 - mean_absolute_error: 0.0220 - val_loss: 9.2469e-04 - val_mean_absolute_error: 0.0208\n",
            "Epoch 491/1000\n",
            "29/29 [==============================] - 1s 30ms/step - loss: 7.8718e-04 - mean_absolute_error: 0.0201 - val_loss: 0.0010 - val_mean_absolute_error: 0.0217\n",
            "Epoch 492/1000\n",
            "29/29 [==============================] - 1s 29ms/step - loss: 8.2321e-04 - mean_absolute_error: 0.0208 - val_loss: 0.0012 - val_mean_absolute_error: 0.0227\n",
            "Epoch 493/1000\n",
            "29/29 [==============================] - 1s 27ms/step - loss: 7.5946e-04 - mean_absolute_error: 0.0201 - val_loss: 9.2047e-04 - val_mean_absolute_error: 0.0210\n",
            "Epoch 494/1000\n",
            "29/29 [==============================] - 1s 30ms/step - loss: 7.9147e-04 - mean_absolute_error: 0.0206 - val_loss: 0.0011 - val_mean_absolute_error: 0.0241\n",
            "Epoch 495/1000\n",
            "29/29 [==============================] - 1s 29ms/step - loss: 7.4432e-04 - mean_absolute_error: 0.0206 - val_loss: 9.1443e-04 - val_mean_absolute_error: 0.0211\n",
            "Epoch 496/1000\n",
            "29/29 [==============================] - 1s 28ms/step - loss: 7.7552e-04 - mean_absolute_error: 0.0202 - val_loss: 9.6633e-04 - val_mean_absolute_error: 0.0217\n",
            "Epoch 497/1000\n",
            "29/29 [==============================] - 1s 29ms/step - loss: 7.2221e-04 - mean_absolute_error: 0.0198 - val_loss: 0.0012 - val_mean_absolute_error: 0.0251\n",
            "Epoch 498/1000\n",
            "29/29 [==============================] - 1s 29ms/step - loss: 7.7482e-04 - mean_absolute_error: 0.0207 - val_loss: 0.0012 - val_mean_absolute_error: 0.0229\n",
            "Epoch 499/1000\n",
            "29/29 [==============================] - 1s 28ms/step - loss: 8.4456e-04 - mean_absolute_error: 0.0208 - val_loss: 9.9064e-04 - val_mean_absolute_error: 0.0225\n",
            "Epoch 500/1000\n",
            "29/29 [==============================] - 1s 29ms/step - loss: 7.1663e-04 - mean_absolute_error: 0.0201 - val_loss: 0.0012 - val_mean_absolute_error: 0.0223\n",
            "Epoch 501/1000\n",
            "29/29 [==============================] - 1s 28ms/step - loss: 8.2994e-04 - mean_absolute_error: 0.0204 - val_loss: 0.0021 - val_mean_absolute_error: 0.0241\n",
            "Epoch 502/1000\n",
            "29/29 [==============================] - 1s 30ms/step - loss: 0.0026 - mean_absolute_error: 0.0306 - val_loss: 0.0024 - val_mean_absolute_error: 0.0356\n",
            "Epoch 503/1000\n",
            "29/29 [==============================] - 1s 29ms/step - loss: 0.0018 - mean_absolute_error: 0.0275 - val_loss: 0.0024 - val_mean_absolute_error: 0.0279\n",
            "Epoch 504/1000\n",
            "29/29 [==============================] - 1s 30ms/step - loss: 0.0018 - mean_absolute_error: 0.0291 - val_loss: 0.0014 - val_mean_absolute_error: 0.0259\n",
            "Epoch 505/1000\n",
            "29/29 [==============================] - 1s 31ms/step - loss: 9.7437e-04 - mean_absolute_error: 0.0225 - val_loss: 0.0014 - val_mean_absolute_error: 0.0236\n",
            "Epoch 506/1000\n",
            "29/29 [==============================] - 1s 28ms/step - loss: 8.6541e-04 - mean_absolute_error: 0.0216 - val_loss: 0.0011 - val_mean_absolute_error: 0.0230\n"
          ],
          "name": "stdout"
        }
      ]
    },
    {
      "cell_type": "markdown",
      "metadata": {
        "id": "GkHTkZjKSRLG"
      },
      "source": [
        "Invoke Tensorboard"
      ]
    },
    {
      "cell_type": "code",
      "metadata": {
        "id": "ahOCgWz2KkLT"
      },
      "source": [
        "# Load the TensorBoard notebook extension \r\n",
        "# https://stackoverflow.com/questions/55970686/tensorboard-not-found-as-magic-function-in-jupyter\r\n",
        "\r\n",
        "%load_ext tensorboard"
      ],
      "execution_count": 67,
      "outputs": []
    },
    {
      "cell_type": "code",
      "metadata": {
        "id": "yxnPAAAr192J"
      },
      "source": [
        "%tensorboard --logdir logs"
      ],
      "execution_count": null,
      "outputs": []
    },
    {
      "cell_type": "markdown",
      "metadata": {
        "id": "6UEkCiyzYFy2"
      },
      "source": [
        "# Part 4. Model evaluation"
      ]
    },
    {
      "cell_type": "code",
      "metadata": {
        "id": "2ljq7zOXS-48",
        "colab": {
          "base_uri": "https://localhost:8080/"
        },
        "outputId": "3e953cac-9b94-4b61-d1f3-d76869197d91"
      },
      "source": [
        "model.evaluate(test_generator, verbose=1)   # better to use different test_generator and validate_generator data for model evaluate and validation purposes\r\n",
        "                                            #    in this case, we are using the same test_generator data\r\n",
        "                                            # results: val_loss, val_MAE"
      ],
      "execution_count": 69,
      "outputs": [
        {
          "output_type": "stream",
          "text": [
            "5/5 [==============================] - 0s 10ms/step - loss: 0.0011 - mean_absolute_error: 0.0230\n"
          ],
          "name": "stdout"
        },
        {
          "output_type": "execute_result",
          "data": {
            "text/plain": [
              "[0.001104577793739736, 0.02304689772427082]"
            ]
          },
          "metadata": {
            "tags": []
          },
          "execution_count": 69
        }
      ]
    },
    {
      "cell_type": "markdown",
      "metadata": {
        "id": "Lg80aEzGVFC7"
      },
      "source": [
        "# Part 5. Model inference (Prediction )"
      ]
    },
    {
      "cell_type": "markdown",
      "metadata": {
        "id": "x5b6Hl8dZZTp"
      },
      "source": [
        "Do Prediction"
      ]
    },
    {
      "cell_type": "code",
      "metadata": {
        "id": "_51mspdkUb2N"
      },
      "source": [
        "predictions = model.predict(test_generator)   "
      ],
      "execution_count": 70,
      "outputs": []
    },
    {
      "cell_type": "code",
      "metadata": {
        "id": "e8JJRYYsUuOo",
        "colab": {
          "base_uri": "https://localhost:8080/"
        },
        "outputId": "a01e3a26-14e5-4585-da3f-ad95c9906f16"
      },
      "source": [
        "#predictions\r\n",
        "predictions[0:9]"
      ],
      "execution_count": 71,
      "outputs": [
        {
          "output_type": "execute_result",
          "data": {
            "text/plain": [
              "array([[0.09752665],\n",
              "       [0.18224058],\n",
              "       [0.30175054],\n",
              "       [0.31971985],\n",
              "       [0.3017431 ],\n",
              "       [0.31196183],\n",
              "       [0.32925165],\n",
              "       [0.32939136],\n",
              "       [0.30301443]], dtype=float32)"
            ]
          },
          "metadata": {
            "tags": []
          },
          "execution_count": 71
        }
      ]
    },
    {
      "cell_type": "code",
      "metadata": {
        "id": "zTSHpD_aUyD5",
        "colab": {
          "base_uri": "https://localhost:8080/"
        },
        "outputId": "55a780f7-c728-423b-e687-8ba22113ad09"
      },
      "source": [
        "predictions.shape # (137, 1)  --> y_test.shape = (263,) since 263-126 = 137"
      ],
      "execution_count": 72,
      "outputs": [
        {
          "output_type": "execute_result",
          "data": {
            "text/plain": [
              "(137, 1)"
            ]
          },
          "metadata": {
            "tags": []
          },
          "execution_count": 72
        }
      ]
    },
    {
      "cell_type": "code",
      "metadata": {
        "id": "4v16yQDGVgea",
        "colab": {
          "base_uri": "https://localhost:8080/"
        },
        "outputId": "7473ad8a-e733-4c6a-93cc-7d865c897202"
      },
      "source": [
        "y_test.shape"
      ],
      "execution_count": 73,
      "outputs": [
        {
          "output_type": "execute_result",
          "data": {
            "text/plain": [
              "(263,)"
            ]
          },
          "metadata": {
            "tags": []
          },
          "execution_count": 73
        }
      ]
    },
    {
      "cell_type": "markdown",
      "metadata": {
        "id": "HYKDUVBft5Do"
      },
      "source": [
        "# Part 6. Present the prediction results using graph"
      ]
    },
    {
      "cell_type": "markdown",
      "metadata": {
        "id": "DiNDy2RxwmNq"
      },
      "source": [
        "Inverse Transform"
      ]
    },
    {
      "cell_type": "code",
      "metadata": {
        "id": "wKV4hzlBwX1h"
      },
      "source": [
        "df_pred_rev = scaler.inverse_transform(predictions)"
      ],
      "execution_count": 74,
      "outputs": []
    },
    {
      "cell_type": "markdown",
      "metadata": {
        "id": "zUk4L7H70Mkb"
      },
      "source": [
        "Append columns into the current DataFrame for better presentation"
      ]
    },
    {
      "cell_type": "code",
      "metadata": {
        "id": "ic9h-qlwkA3v",
        "colab": {
          "base_uri": "https://localhost:8080/"
        },
        "outputId": "d11ce49b-676f-4743-91be-0b2b3c795622"
      },
      "source": [
        "df_input.shape"
      ],
      "execution_count": 75,
      "outputs": [
        {
          "output_type": "execute_result",
          "data": {
            "text/plain": [
              "(1312, 1)"
            ]
          },
          "metadata": {
            "tags": []
          },
          "execution_count": 75
        }
      ]
    },
    {
      "cell_type": "code",
      "metadata": {
        "id": "jigCEBuxkeug"
      },
      "source": [
        "df_final = df_input[predictions.shape[0]*-1:] "
      ],
      "execution_count": 76,
      "outputs": []
    },
    {
      "cell_type": "code",
      "metadata": {
        "id": "4t8pUP-LkliC",
        "colab": {
          "base_uri": "https://localhost:8080/"
        },
        "outputId": "78bf5295-1d5c-4c9d-a151-c48f41fec189"
      },
      "source": [
        "df_final.info()"
      ],
      "execution_count": 77,
      "outputs": [
        {
          "output_type": "stream",
          "text": [
            "<class 'pandas.core.frame.DataFrame'>\n",
            "Int64Index: 137 entries, 1175 to 1311\n",
            "Data columns (total 1 columns):\n",
            " #   Column     Non-Null Count  Dtype\n",
            "---  ------     --------------  -----\n",
            " 0   Occupancy  137 non-null    int64\n",
            "dtypes: int64(1)\n",
            "memory usage: 2.1 KB\n"
          ],
          "name": "stdout"
        }
      ]
    },
    {
      "cell_type": "code",
      "metadata": {
        "id": "Dm3IXLntjyMu"
      },
      "source": [
        "# change column name from 'Occupancy' to 'Occ_Actual'\r\n",
        "df_final.columns = ['Occ_Actual']"
      ],
      "execution_count": 78,
      "outputs": []
    },
    {
      "cell_type": "code",
      "metadata": {
        "colab": {
          "base_uri": "https://localhost:8080/"
        },
        "id": "r1xHTCqlhnnn",
        "outputId": "c1d10db2-bdf2-4e0f-dde8-dc8d89cb310b"
      },
      "source": [
        "df_final.info()"
      ],
      "execution_count": 79,
      "outputs": [
        {
          "output_type": "stream",
          "text": [
            "<class 'pandas.core.frame.DataFrame'>\n",
            "Int64Index: 137 entries, 1175 to 1311\n",
            "Data columns (total 1 columns):\n",
            " #   Column      Non-Null Count  Dtype\n",
            "---  ------      --------------  -----\n",
            " 0   Occ_Actual  137 non-null    int64\n",
            "dtypes: int64(1)\n",
            "memory usage: 2.1 KB\n"
          ],
          "name": "stdout"
        }
      ]
    },
    {
      "cell_type": "markdown",
      "metadata": {
        "id": "Umx-9t7iaImx"
      },
      "source": [
        "append one more column (named 'Occ_Predicted') into the final dataFrame \r\n"
      ]
    },
    {
      "cell_type": "code",
      "metadata": {
        "id": "MV-zXzP-z1ry",
        "colab": {
          "base_uri": "https://localhost:8080/"
        },
        "outputId": "3f873d61-501f-4e09-e95f-efe0cc36c2b4"
      },
      "source": [
        "df_final['Occ_Predicted'] = df_pred_rev[:,0] # append one more column (named 'Occ_Predicted') into df_final \r\n"
      ],
      "execution_count": 80,
      "outputs": [
        {
          "output_type": "stream",
          "text": [
            "/usr/local/lib/python3.6/dist-packages/ipykernel_launcher.py:1: SettingWithCopyWarning: \n",
            "A value is trying to be set on a copy of a slice from a DataFrame.\n",
            "Try using .loc[row_indexer,col_indexer] = value instead\n",
            "\n",
            "See the caveats in the documentation: https://pandas.pydata.org/pandas-docs/stable/user_guide/indexing.html#returning-a-view-versus-a-copy\n",
            "  \"\"\"Entry point for launching an IPython kernel.\n"
          ],
          "name": "stderr"
        }
      ]
    },
    {
      "cell_type": "code",
      "metadata": {
        "id": "kBXb25aT0Fz9",
        "colab": {
          "base_uri": "https://localhost:8080/",
          "height": 195
        },
        "outputId": "2f1a4bff-164c-4d8d-b0b0-5681f2ec168e"
      },
      "source": [
        "df_final.head()"
      ],
      "execution_count": 81,
      "outputs": [
        {
          "output_type": "execute_result",
          "data": {
            "text/html": [
              "<div>\n",
              "<style scoped>\n",
              "    .dataframe tbody tr th:only-of-type {\n",
              "        vertical-align: middle;\n",
              "    }\n",
              "\n",
              "    .dataframe tbody tr th {\n",
              "        vertical-align: top;\n",
              "    }\n",
              "\n",
              "    .dataframe thead th {\n",
              "        text-align: right;\n",
              "    }\n",
              "</style>\n",
              "<table border=\"1\" class=\"dataframe\">\n",
              "  <thead>\n",
              "    <tr style=\"text-align: right;\">\n",
              "      <th></th>\n",
              "      <th>Occ_Actual</th>\n",
              "      <th>Occ_Predicted</th>\n",
              "    </tr>\n",
              "  </thead>\n",
              "  <tbody>\n",
              "    <tr>\n",
              "      <th>1175</th>\n",
              "      <td>99</td>\n",
              "      <td>57.687721</td>\n",
              "    </tr>\n",
              "    <tr>\n",
              "      <th>1176</th>\n",
              "      <td>142</td>\n",
              "      <td>106.059364</td>\n",
              "    </tr>\n",
              "    <tr>\n",
              "      <th>1177</th>\n",
              "      <td>157</td>\n",
              "      <td>174.299561</td>\n",
              "    </tr>\n",
              "    <tr>\n",
              "      <th>1178</th>\n",
              "      <td>157</td>\n",
              "      <td>184.560043</td>\n",
              "    </tr>\n",
              "    <tr>\n",
              "      <th>1179</th>\n",
              "      <td>167</td>\n",
              "      <td>174.295303</td>\n",
              "    </tr>\n",
              "  </tbody>\n",
              "</table>\n",
              "</div>"
            ],
            "text/plain": [
              "      Occ_Actual  Occ_Predicted\n",
              "1175          99      57.687721\n",
              "1176         142     106.059364\n",
              "1177         157     174.299561\n",
              "1178         157     184.560043\n",
              "1179         167     174.295303"
            ]
          },
          "metadata": {
            "tags": []
          },
          "execution_count": 81
        }
      ]
    },
    {
      "cell_type": "markdown",
      "metadata": {
        "id": "Y5CGVp600YNA"
      },
      "source": [
        "Plotting"
      ]
    },
    {
      "cell_type": "code",
      "metadata": {
        "id": "UwliYSbm0aZf",
        "colab": {
          "base_uri": "https://localhost:8080/",
          "height": 282
        },
        "outputId": "2d29ef97-3e2c-443c-860e-bb2ea4b7d2f5"
      },
      "source": [
        "df_final[['Occ_Actual','Occ_Predicted']].plot()"
      ],
      "execution_count": 82,
      "outputs": [
        {
          "output_type": "execute_result",
          "data": {
            "text/plain": [
              "<matplotlib.axes._subplots.AxesSubplot at 0x7f71700a2668>"
            ]
          },
          "metadata": {
            "tags": []
          },
          "execution_count": 82
        },
        {
          "output_type": "display_data",
          "data": {
            "image/png": "[encoded data removed]",
            "text/plain": [
              "<Figure size 432x288 with 1 Axes>"
            ]
          },
          "metadata": {
            "tags": [],
            "needs_background": "light"
          }
        }
      ]
    }
  ]
}